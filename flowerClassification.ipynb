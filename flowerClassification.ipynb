{
 "cells": [
  {
   "cell_type": "code",
   "execution_count": 1,
   "metadata": {},
   "outputs": [],
   "source": [
    "import numpy as np\n",
    "import pandas as pd\n",
    "import matplotlib.pyplot as plt\n",
    "import os\n",
    "import tensorflow as tf\n",
    "from tensorflow import keras\n",
    "from sklearn.model_selection import train_test_split\n",
    "from sklearn.metrics import classification_report,confusion_matrix\n",
    "import cv2\n",
    "from tqdm import tqdm\n",
    "%matplotlib inline"
   ]
  },
  {
   "cell_type": "code",
   "execution_count": 2,
   "metadata": {},
   "outputs": [],
   "source": [
    "path_daisy = 'daisy/'\n",
    "path_dandelion = 'dandelion/'\n",
    "path_rose = 'rose/'\n",
    "path_sunflower = 'sunflower/'\n",
    "path_tulip = 'tulip/'"
   ]
  },
  {
   "cell_type": "code",
   "execution_count": 3,
   "metadata": {},
   "outputs": [],
   "source": [
    "daisy = os.listdir(path_daisy)\n",
    "dandelion = os.listdir(path_dandelion)\n",
    "rose = os.listdir(path_rose)\n",
    "sunflower = os.listdir(path_sunflower)\n",
    "tulip = os.listdir(path_tulip)"
   ]
  },
  {
   "cell_type": "code",
   "execution_count": 4,
   "metadata": {},
   "outputs": [
    {
     "name": "stdout",
     "output_type": "stream",
     "text": [
      "No. of samples:\n",
      "daisy =\t 769 \n",
      "dandelion =\t 1052 \n",
      "rose =\t 784 \n",
      "sunflower =\t 734 \n",
      "tulip =\t 984\n"
     ]
    }
   ],
   "source": [
    "print('No. of samples:\\ndaisy =\\t',len(daisy),'\\ndandelion =\\t',len(dandelion),'\\nrose =\\t',len(rose),'\\nsunflower =\\t',len(sunflower),'\\ntulip =\\t',len(tulip))"
   ]
  },
  {
   "cell_type": "code",
   "execution_count": 42,
   "metadata": {},
   "outputs": [],
   "source": [
    "pixel = 35"
   ]
  },
  {
   "cell_type": "code",
   "execution_count": 43,
   "metadata": {},
   "outputs": [],
   "source": [
    "def resizer(pic):\n",
    "    pic = cv2.resize(pic,(pixel,pixel))\n",
    "    pic = pic.reshape(1,pic.shape[0]*pic.shape[1]*pic.shape[2])\n",
    "    pic = pic/255\n",
    "    return pic"
   ]
  },
  {
   "cell_type": "code",
   "execution_count": 44,
   "metadata": {},
   "outputs": [],
   "source": [
    "img_daisy = np.zeros((len(daisy),pixel*pixel*3+1))\n",
    "img_dandelion = np.zeros((len(dandelion),pixel*pixel*3+1))\n",
    "img_rose = np.zeros((len(rose),pixel*pixel*3+1))\n",
    "img_sunflower = np.zeros((len(sunflower),pixel*pixel*3+1))\n",
    "img_tulip = np.zeros((len(tulip),pixel*pixel*3+1))"
   ]
  },
  {
   "cell_type": "code",
   "execution_count": 45,
   "metadata": {},
   "outputs": [
    {
     "name": "stderr",
     "output_type": "stream",
     "text": [
      "100%|██████████| 769/769 [00:01<00:00, 704.70it/s]\n"
     ]
    }
   ],
   "source": [
    "i = 0\n",
    "for i in tqdm(range(len(daisy))):\n",
    "    pic = cv2.imread(path_daisy+daisy[i])\n",
    "    pic = resizer(pic)\n",
    "    img_daisy[i,:(pixel*pixel*3)] = pic\n",
    "    img_daisy[i,-1] = 0"
   ]
  },
  {
   "cell_type": "code",
   "execution_count": 46,
   "metadata": {},
   "outputs": [
    {
     "name": "stderr",
     "output_type": "stream",
     "text": [
      "100%|██████████| 1052/1052 [00:01<00:00, 675.79it/s]\n"
     ]
    }
   ],
   "source": [
    "i = 0\n",
    "for i in tqdm(range(len(dandelion))):\n",
    "    if i!=240 and i!=494 and i!=758:\n",
    "        pic = cv2.imread(path_dandelion+dandelion[i])\n",
    "        pic = resizer(pic)\n",
    "        img_dandelion[i,:(pixel*pixel*3)] = pic\n",
    "        img_dandelion[i,-1] = 1"
   ]
  },
  {
   "cell_type": "code",
   "execution_count": 47,
   "metadata": {},
   "outputs": [
    {
     "name": "stderr",
     "output_type": "stream",
     "text": [
      "100%|██████████| 784/784 [00:01<00:00, 702.69it/s]\n"
     ]
    }
   ],
   "source": [
    "i = 0\n",
    "for i in tqdm(range(len(rose))):\n",
    "    pic = cv2.imread(path_rose+rose[i])\n",
    "    pic = resizer(pic)\n",
    "    img_rose[i,:(pixel*pixel*3)] = pic\n",
    "    img_rose[i,-1] = 2"
   ]
  },
  {
   "cell_type": "code",
   "execution_count": 48,
   "metadata": {},
   "outputs": [
    {
     "name": "stderr",
     "output_type": "stream",
     "text": [
      "100%|██████████| 734/734 [00:01<00:00, 546.86it/s]\n"
     ]
    }
   ],
   "source": [
    "i = 0\n",
    "for i in tqdm(range(len(sunflower))):\n",
    "    pic = cv2.imread(path_sunflower+sunflower[i])\n",
    "    pic = resizer(pic)\n",
    "    img_sunflower[i,:(pixel*pixel*3)] = pic\n",
    "    img_sunflower[i,-1] = 3"
   ]
  },
  {
   "cell_type": "code",
   "execution_count": 49,
   "metadata": {},
   "outputs": [
    {
     "name": "stderr",
     "output_type": "stream",
     "text": [
      "100%|██████████| 984/984 [00:01<00:00, 635.41it/s]\n"
     ]
    }
   ],
   "source": [
    "i = 0\n",
    "for i in tqdm(range(len(tulip))):\n",
    "    pic = cv2.imread(path_tulip+tulip[i])\n",
    "    pic = resizer(pic)\n",
    "    img_tulip[i,:(pixel*pixel*3)] = pic\n",
    "    img_tulip[i,-1] = 4"
   ]
  },
  {
   "cell_type": "code",
   "execution_count": 50,
   "metadata": {},
   "outputs": [
    {
     "data": {
      "text/plain": [
       "<matplotlib.image.AxesImage at 0x7ff60a2e87b8>"
      ]
     },
     "execution_count": 50,
     "metadata": {},
     "output_type": "execute_result"
    },
    {
     "data": {
      "image/png": "[encoded data removed]",
      "text/plain": [
       "<Figure size 432x288 with 1 Axes>"
      ]
     },
     "metadata": {
      "needs_background": "light"
     },
     "output_type": "display_data"
    }
   ],
   "source": [
    "plt.imshow(img_tulip[0,:-1].reshape((pixel,pixel,3)))"
   ]
  },
  {
   "cell_type": "code",
   "execution_count": 51,
   "metadata": {},
   "outputs": [],
   "source": [
    "m = len(daisy)+len(dandelion)+len(sunflower)+len(tulip)+len(rose)\n",
    "n = pixel*pixel*3+1\n",
    "img = np.zeros((m,n))"
   ]
  },
  {
   "cell_type": "code",
   "execution_count": 52,
   "metadata": {},
   "outputs": [],
   "source": [
    "img[:len(daisy),:] = img_daisy"
   ]
  },
  {
   "cell_type": "code",
   "execution_count": 53,
   "metadata": {},
   "outputs": [],
   "source": [
    "img[len(daisy):len(daisy)+len(dandelion),:] = img_dandelion"
   ]
  },
  {
   "cell_type": "code",
   "execution_count": 54,
   "metadata": {},
   "outputs": [],
   "source": [
    "img[len(daisy)+len(dandelion):len(daisy)+len(dandelion)+len(rose),:] = img_rose"
   ]
  },
  {
   "cell_type": "code",
   "execution_count": 55,
   "metadata": {},
   "outputs": [],
   "source": [
    "img[len(daisy)+len(dandelion)+len(rose):len(daisy)+len(dandelion)+len(rose)+len(sunflower),:] = img_sunflower"
   ]
  },
  {
   "cell_type": "code",
   "execution_count": 56,
   "metadata": {},
   "outputs": [],
   "source": [
    "img[len(daisy)+len(dandelion)+len(rose)+len(sunflower):,:] = img_tulip"
   ]
  },
  {
   "cell_type": "code",
   "execution_count": 57,
   "metadata": {},
   "outputs": [],
   "source": [
    "np.random.shuffle(img)"
   ]
  },
  {
   "cell_type": "code",
   "execution_count": 58,
   "metadata": {},
   "outputs": [],
   "source": [
    "X = img[:,:-1]"
   ]
  },
  {
   "cell_type": "code",
   "execution_count": 59,
   "metadata": {},
   "outputs": [],
   "source": [
    "Y = img[:,-1]\n",
    "Y = np.reshape(Y,(Y.shape[0],1))"
   ]
  },
  {
   "cell_type": "code",
   "execution_count": 60,
   "metadata": {},
   "outputs": [
    {
     "data": {
      "text/plain": [
       "(4323, 3675)"
      ]
     },
     "execution_count": 60,
     "metadata": {},
     "output_type": "execute_result"
    }
   ],
   "source": [
    "X.shape"
   ]
  },
  {
   "cell_type": "code",
   "execution_count": 61,
   "metadata": {},
   "outputs": [
    {
     "data": {
      "text/plain": [
       "(4323, 1)"
      ]
     },
     "execution_count": 61,
     "metadata": {},
     "output_type": "execute_result"
    }
   ],
   "source": [
    "Y.shape"
   ]
  },
  {
   "cell_type": "code",
   "execution_count": 62,
   "metadata": {},
   "outputs": [],
   "source": [
    "model = keras.models.Sequential()\n",
    "model.add(keras.layers.Dense(1000,activation=\"relu\"))\n",
    "model.add(keras.layers.Dense(750,activation=\"relu\"))\n",
    "model.add(keras.layers.Dense(5,activation=\"softmax\"))"
   ]
  },
  {
   "cell_type": "code",
   "execution_count": 63,
   "metadata": {},
   "outputs": [],
   "source": [
    "model.compile(loss=\"sparse_categorical_crossentropy\",optimizer=\"sgd\",metrics=[\"accuracy\"])"
   ]
  },
  {
   "cell_type": "code",
   "execution_count": 64,
   "metadata": {},
   "outputs": [],
   "source": [
    "X_train_val, X_test, y_train_val, y_test = train_test_split(X, Y, test_size=0.20, random_state=101)"
   ]
  },
  {
   "cell_type": "code",
   "execution_count": 65,
   "metadata": {},
   "outputs": [],
   "source": [
    "X_train, X_val, y_train, y_val = train_test_split(X_train_val, y_train_val, test_size=0.25, random_state=101)"
   ]
  },
  {
   "cell_type": "code",
   "execution_count": 66,
   "metadata": {},
   "outputs": [
    {
     "name": "stdout",
     "output_type": "stream",
     "text": [
      "Train on 2593 samples, validate on 865 samples\n",
      "Epoch 1/300\n",
      "2593/2593 [==============================] - 1s 565us/sample - loss: 1.4659 - accuracy: 0.3494 - val_loss: 1.8790 - val_accuracy: 0.2647\n",
      "Epoch 2/300\n",
      "2593/2593 [==============================] - 1s 509us/sample - loss: 1.3118 - accuracy: 0.4435 - val_loss: 1.9027 - val_accuracy: 0.3006\n",
      "Epoch 3/300\n",
      "2593/2593 [==============================] - 1s 509us/sample - loss: 1.2547 - accuracy: 0.4763 - val_loss: 1.5871 - val_accuracy: 0.3468\n",
      "Epoch 4/300\n",
      "2593/2593 [==============================] - 1s 510us/sample - loss: 1.1830 - accuracy: 0.5179 - val_loss: 1.5881 - val_accuracy: 0.3514\n",
      "Epoch 5/300\n",
      "2593/2593 [==============================] - 1s 513us/sample - loss: 1.1532 - accuracy: 0.5349 - val_loss: 3.2016 - val_accuracy: 0.1884\n",
      "Epoch 6/300\n",
      "2593/2593 [==============================] - 1s 520us/sample - loss: 1.1568 - accuracy: 0.5453 - val_loss: 3.3315 - val_accuracy: 0.2139\n",
      "Epoch 7/300\n",
      "2593/2593 [==============================] - 1s 513us/sample - loss: 1.1145 - accuracy: 0.5611 - val_loss: 2.0448 - val_accuracy: 0.2231\n",
      "Epoch 8/300\n",
      "2593/2593 [==============================] - 1s 517us/sample - loss: 1.0552 - accuracy: 0.5874 - val_loss: 4.8668 - val_accuracy: 0.1653\n",
      "Epoch 9/300\n",
      "2593/2593 [==============================] - 1s 517us/sample - loss: 1.0968 - accuracy: 0.5862 - val_loss: 2.9451 - val_accuracy: 0.2763\n",
      "Epoch 10/300\n",
      "2593/2593 [==============================] - 1s 524us/sample - loss: 1.0763 - accuracy: 0.5870 - val_loss: 3.0526 - val_accuracy: 0.2254\n",
      "Epoch 11/300\n",
      "2593/2593 [==============================] - 1s 554us/sample - loss: 1.0119 - accuracy: 0.6097 - val_loss: 1.6761 - val_accuracy: 0.3815\n",
      "Epoch 12/300\n",
      "2593/2593 [==============================] - 1s 564us/sample - loss: 0.9659 - accuracy: 0.6248 - val_loss: 1.7504 - val_accuracy: 0.3676\n",
      "Epoch 13/300\n",
      "2593/2593 [==============================] - 2s 589us/sample - loss: 0.9237 - accuracy: 0.6521 - val_loss: 1.6635 - val_accuracy: 0.3329\n",
      "Epoch 14/300\n",
      "2593/2593 [==============================] - 1s 524us/sample - loss: 0.9114 - accuracy: 0.6529 - val_loss: 1.4653 - val_accuracy: 0.4023\n",
      "Epoch 15/300\n",
      "2593/2593 [==============================] - 1s 517us/sample - loss: 0.8626 - accuracy: 0.6872 - val_loss: 6.1307 - val_accuracy: 0.2555\n",
      "Epoch 16/300\n",
      "2593/2593 [==============================] - 1s 531us/sample - loss: 0.9483 - accuracy: 0.6784 - val_loss: 1.6763 - val_accuracy: 0.3780\n",
      "Epoch 17/300\n",
      "2593/2593 [==============================] - 2s 740us/sample - loss: 0.8336 - accuracy: 0.7054 - val_loss: 4.1343 - val_accuracy: 0.1746\n",
      "Epoch 18/300\n",
      "2593/2593 [==============================] - 2s 609us/sample - loss: 0.8595 - accuracy: 0.7011 - val_loss: 1.8937 - val_accuracy: 0.3699\n",
      "Epoch 19/300\n",
      "2593/2593 [==============================] - 2s 623us/sample - loss: 0.7860 - accuracy: 0.7254 - val_loss: 3.5365 - val_accuracy: 0.2382\n",
      "Epoch 20/300\n",
      "2593/2593 [==============================] - 2s 739us/sample - loss: 0.8014 - accuracy: 0.7239 - val_loss: 4.1443 - val_accuracy: 0.1838\n",
      "Epoch 21/300\n",
      "2593/2593 [==============================] - 2s 654us/sample - loss: 0.7932 - accuracy: 0.7378 - val_loss: 5.5925 - val_accuracy: 0.2566\n",
      "Epoch 22/300\n",
      "2593/2593 [==============================] - 1s 535us/sample - loss: 0.7897 - accuracy: 0.7505 - val_loss: 2.1128 - val_accuracy: 0.3110\n",
      "Epoch 23/300\n",
      "2593/2593 [==============================] - 2s 624us/sample - loss: 0.6906 - accuracy: 0.7748 - val_loss: 4.1600 - val_accuracy: 0.1908\n",
      "Epoch 24/300\n",
      "2593/2593 [==============================] - 2s 609us/sample - loss: 0.7432 - accuracy: 0.7590 - val_loss: 2.6940 - val_accuracy: 0.3087\n",
      "Epoch 25/300\n",
      "2593/2593 [==============================] - 2s 588us/sample - loss: 0.6620 - accuracy: 0.7775 - val_loss: 1.4328 - val_accuracy: 0.4428\n",
      "Epoch 26/300\n",
      "2593/2593 [==============================] - 1s 506us/sample - loss: 0.6175 - accuracy: 0.7998 - val_loss: 2.5800 - val_accuracy: 0.3202\n",
      "Epoch 27/300\n",
      "2593/2593 [==============================] - 1s 529us/sample - loss: 0.6205 - accuracy: 0.8033 - val_loss: 1.3840 - val_accuracy: 0.4497\n",
      "Epoch 28/300\n",
      "2593/2593 [==============================] - 1s 516us/sample - loss: 0.5844 - accuracy: 0.8172 - val_loss: 3.8496 - val_accuracy: 0.2486\n",
      "Epoch 29/300\n",
      "2593/2593 [==============================] - 1s 507us/sample - loss: 0.5890 - accuracy: 0.8172 - val_loss: 3.3656 - val_accuracy: 0.2925\n",
      "Epoch 30/300\n",
      "2593/2593 [==============================] - 1s 505us/sample - loss: 0.5680 - accuracy: 0.8238 - val_loss: 5.3692 - val_accuracy: 0.2659\n",
      "Epoch 31/300\n",
      "2593/2593 [==============================] - 1s 505us/sample - loss: 0.5928 - accuracy: 0.8303 - val_loss: 4.5068 - val_accuracy: 0.2578\n",
      "Epoch 32/300\n",
      "2593/2593 [==============================] - 1s 503us/sample - loss: 0.5338 - accuracy: 0.8461 - val_loss: 3.3443 - val_accuracy: 0.2740\n",
      "Epoch 33/300\n",
      "2593/2593 [==============================] - 1s 509us/sample - loss: 0.5612 - accuracy: 0.8357 - val_loss: 2.8483 - val_accuracy: 0.3283\n",
      "Epoch 34/300\n",
      "2593/2593 [==============================] - 1s 506us/sample - loss: 0.4882 - accuracy: 0.8589 - val_loss: 2.3114 - val_accuracy: 0.3988\n",
      "Epoch 35/300\n",
      "2593/2593 [==============================] - 1s 574us/sample - loss: 0.4260 - accuracy: 0.8801 - val_loss: 5.4403 - val_accuracy: 0.1896\n",
      "Epoch 36/300\n",
      "2593/2593 [==============================] - 1s 513us/sample - loss: 0.4982 - accuracy: 0.8612 - val_loss: 1.5358 - val_accuracy: 0.4832\n",
      "Epoch 37/300\n",
      "2593/2593 [==============================] - 1s 573us/sample - loss: 0.3712 - accuracy: 0.9086 - val_loss: 4.6170 - val_accuracy: 0.2081\n",
      "Epoch 38/300\n",
      "2593/2593 [==============================] - 1s 504us/sample - loss: 0.4103 - accuracy: 0.8901 - val_loss: 1.4083 - val_accuracy: 0.5029\n",
      "Epoch 39/300\n",
      "2593/2593 [==============================] - 1s 507us/sample - loss: 0.3719 - accuracy: 0.8970 - val_loss: 1.3865 - val_accuracy: 0.5017\n",
      "Epoch 40/300\n",
      "2593/2593 [==============================] - 1s 506us/sample - loss: 0.3260 - accuracy: 0.9209 - val_loss: 4.4796 - val_accuracy: 0.2960\n",
      "Epoch 41/300\n",
      "2593/2593 [==============================] - 1s 506us/sample - loss: 0.3933 - accuracy: 0.8951 - val_loss: 4.3111 - val_accuracy: 0.2636\n",
      "Epoch 42/300\n",
      "2593/2593 [==============================] - 1s 523us/sample - loss: 0.4198 - accuracy: 0.8878 - val_loss: 1.5265 - val_accuracy: 0.4809\n",
      "Epoch 43/300\n",
      "2593/2593 [==============================] - 1s 504us/sample - loss: 0.3483 - accuracy: 0.9017 - val_loss: 3.6290 - val_accuracy: 0.3156\n",
      "Epoch 44/300\n",
      "2593/2593 [==============================] - 1s 563us/sample - loss: 0.3502 - accuracy: 0.9140 - val_loss: 1.8080 - val_accuracy: 0.4231\n",
      "Epoch 45/300\n",
      "2593/2593 [==============================] - 1s 574us/sample - loss: 0.2314 - accuracy: 0.9576 - val_loss: 1.8904 - val_accuracy: 0.4462\n",
      "Epoch 46/300\n",
      "2593/2593 [==============================] - 1s 504us/sample - loss: 0.2897 - accuracy: 0.9267 - val_loss: 2.0937 - val_accuracy: 0.4289\n",
      "Epoch 47/300\n",
      "2593/2593 [==============================] - 2s 638us/sample - loss: 0.2216 - accuracy: 0.9526 - val_loss: 1.9631 - val_accuracy: 0.4347\n",
      "Epoch 48/300\n",
      "2593/2593 [==============================] - 1s 503us/sample - loss: 0.2678 - accuracy: 0.9356 - val_loss: 1.5590 - val_accuracy: 0.4844\n",
      "Epoch 49/300\n",
      "2593/2593 [==============================] - 1s 509us/sample - loss: 0.2050 - accuracy: 0.9553 - val_loss: 1.5534 - val_accuracy: 0.4960\n",
      "Epoch 50/300\n",
      "2593/2593 [==============================] - 1s 578us/sample - loss: 0.1856 - accuracy: 0.9610 - val_loss: 3.0534 - val_accuracy: 0.3017\n",
      "Epoch 51/300\n",
      "2593/2593 [==============================] - 2s 682us/sample - loss: 0.2115 - accuracy: 0.9530 - val_loss: 1.5979 - val_accuracy: 0.4775\n",
      "Epoch 52/300\n",
      "2593/2593 [==============================] - 2s 632us/sample - loss: 0.2649 - accuracy: 0.9321 - val_loss: 1.6500 - val_accuracy: 0.4844\n",
      "Epoch 53/300\n",
      "2593/2593 [==============================] - 2s 601us/sample - loss: 0.1615 - accuracy: 0.9676 - val_loss: 1.6435 - val_accuracy: 0.4728\n",
      "Epoch 54/300\n",
      "2593/2593 [==============================] - 2s 629us/sample - loss: 0.1586 - accuracy: 0.9703 - val_loss: 1.5535 - val_accuracy: 0.5029\n",
      "Epoch 55/300\n"
     ]
    },
    {
     "name": "stdout",
     "output_type": "stream",
     "text": [
      "2593/2593 [==============================] - 2s 591us/sample - loss: 0.1839 - accuracy: 0.9637 - val_loss: 1.8579 - val_accuracy: 0.4532\n",
      "Epoch 56/300\n",
      "2593/2593 [==============================] - 1s 552us/sample - loss: 0.1655 - accuracy: 0.9626 - val_loss: 1.6040 - val_accuracy: 0.4925\n",
      "Epoch 57/300\n",
      "2593/2593 [==============================] - 1s 559us/sample - loss: 0.1494 - accuracy: 0.9695 - val_loss: 1.8215 - val_accuracy: 0.4636\n",
      "Epoch 58/300\n",
      "2593/2593 [==============================] - 1s 554us/sample - loss: 0.1115 - accuracy: 0.9830 - val_loss: 2.2949 - val_accuracy: 0.4000\n",
      "Epoch 59/300\n",
      "2593/2593 [==============================] - 2s 735us/sample - loss: 0.1621 - accuracy: 0.9668 - val_loss: 2.7927 - val_accuracy: 0.4220\n",
      "Epoch 60/300\n",
      "2593/2593 [==============================] - 2s 726us/sample - loss: 0.1295 - accuracy: 0.9796 - val_loss: 2.1373 - val_accuracy: 0.4671\n",
      "Epoch 61/300\n",
      "2593/2593 [==============================] - 1s 543us/sample - loss: 0.1348 - accuracy: 0.9742 - val_loss: 1.7247 - val_accuracy: 0.4855\n",
      "Epoch 62/300\n",
      "2593/2593 [==============================] - 1s 506us/sample - loss: 0.1466 - accuracy: 0.9664 - val_loss: 1.6609 - val_accuracy: 0.4809\n",
      "Epoch 63/300\n",
      "2593/2593 [==============================] - 1s 505us/sample - loss: 0.0950 - accuracy: 0.9877 - val_loss: 1.6559 - val_accuracy: 0.4786\n",
      "Epoch 64/300\n",
      "2593/2593 [==============================] - 1s 510us/sample - loss: 0.0780 - accuracy: 0.9884 - val_loss: 1.9246 - val_accuracy: 0.4439\n",
      "Epoch 65/300\n",
      "2593/2593 [==============================] - 1s 517us/sample - loss: 0.1233 - accuracy: 0.9769 - val_loss: 1.6656 - val_accuracy: 0.4832\n",
      "Epoch 66/300\n",
      "2593/2593 [==============================] - 2s 584us/sample - loss: 0.0701 - accuracy: 0.9907 - val_loss: 1.7296 - val_accuracy: 0.4775\n",
      "Epoch 67/300\n",
      "2593/2593 [==============================] - 2s 636us/sample - loss: 0.1942 - accuracy: 0.9691 - val_loss: 1.8679 - val_accuracy: 0.4601\n",
      "Epoch 68/300\n",
      "2593/2593 [==============================] - 1s 534us/sample - loss: 0.0738 - accuracy: 0.9919 - val_loss: 1.7120 - val_accuracy: 0.4902\n",
      "Epoch 69/300\n",
      "2593/2593 [==============================] - 2s 607us/sample - loss: 0.1537 - accuracy: 0.9649 - val_loss: 1.5743 - val_accuracy: 0.5040\n",
      "Epoch 70/300\n",
      "2593/2593 [==============================] - 2s 585us/sample - loss: 0.0631 - accuracy: 0.9938 - val_loss: 1.7412 - val_accuracy: 0.5087\n",
      "Epoch 71/300\n",
      "2593/2593 [==============================] - 2s 581us/sample - loss: 0.0513 - accuracy: 0.9934 - val_loss: 1.8395 - val_accuracy: 0.4983\n",
      "Epoch 72/300\n",
      "2593/2593 [==============================] - 1s 574us/sample - loss: 0.0580 - accuracy: 0.9923 - val_loss: 1.9028 - val_accuracy: 0.4705\n",
      "Epoch 73/300\n",
      "2593/2593 [==============================] - 1s 507us/sample - loss: 0.0467 - accuracy: 0.9958 - val_loss: 2.5286 - val_accuracy: 0.4081\n",
      "Epoch 74/300\n",
      "2593/2593 [==============================] - 1s 564us/sample - loss: 0.0683 - accuracy: 0.9873 - val_loss: 7.5857 - val_accuracy: 0.2035\n",
      "Epoch 75/300\n",
      "2593/2593 [==============================] - 1s 509us/sample - loss: 0.4134 - accuracy: 0.9406 - val_loss: 8.9274 - val_accuracy: 0.2590\n",
      "Epoch 76/300\n",
      "2593/2593 [==============================] - 1s 506us/sample - loss: 0.2727 - accuracy: 0.9583 - val_loss: 1.7342 - val_accuracy: 0.4983\n",
      "Epoch 77/300\n",
      "2593/2593 [==============================] - 1s 507us/sample - loss: 0.0503 - accuracy: 0.9958 - val_loss: 1.8454 - val_accuracy: 0.4902\n",
      "Epoch 78/300\n",
      "2593/2593 [==============================] - 1s 508us/sample - loss: 0.0486 - accuracy: 0.9950 - val_loss: 1.9140 - val_accuracy: 0.4994\n",
      "Epoch 79/300\n",
      "2593/2593 [==============================] - 1s 505us/sample - loss: 0.1691 - accuracy: 0.9603 - val_loss: 1.6632 - val_accuracy: 0.4994\n",
      "Epoch 80/300\n",
      "2593/2593 [==============================] - 1s 504us/sample - loss: 0.0498 - accuracy: 0.9958 - val_loss: 2.3397 - val_accuracy: 0.4439\n",
      "Epoch 81/300\n",
      "2593/2593 [==============================] - 2s 583us/sample - loss: 0.0454 - accuracy: 0.9934 - val_loss: 1.9709 - val_accuracy: 0.4717\n",
      "Epoch 82/300\n",
      "2593/2593 [==============================] - 1s 552us/sample - loss: 0.0353 - accuracy: 0.9965 - val_loss: 1.9024 - val_accuracy: 0.4798\n",
      "Epoch 83/300\n",
      "2593/2593 [==============================] - 2s 746us/sample - loss: 0.0729 - accuracy: 0.9873 - val_loss: 2.0265 - val_accuracy: 0.4775\n",
      "Epoch 84/300\n",
      "2593/2593 [==============================] - 2s 666us/sample - loss: 0.0308 - accuracy: 0.9969 - val_loss: 1.9329 - val_accuracy: 0.4936\n",
      "Epoch 85/300\n",
      "2593/2593 [==============================] - 2s 613us/sample - loss: 0.0328 - accuracy: 0.9950 - val_loss: 1.9018 - val_accuracy: 0.4960\n",
      "Epoch 86/300\n",
      "2593/2593 [==============================] - 2s 694us/sample - loss: 0.0291 - accuracy: 0.9961 - val_loss: 2.3928 - val_accuracy: 0.4370\n",
      "Epoch 87/300\n",
      "2593/2593 [==============================] - 2s 692us/sample - loss: 0.0600 - accuracy: 0.9892 - val_loss: 1.9070 - val_accuracy: 0.4763\n",
      "Epoch 88/300\n",
      "2593/2593 [==============================] - 2s 668us/sample - loss: 0.0805 - accuracy: 0.9842 - val_loss: 1.8896 - val_accuracy: 0.4994\n",
      "Epoch 89/300\n",
      "2593/2593 [==============================] - 2s 671us/sample - loss: 0.0292 - accuracy: 0.9965 - val_loss: 1.9101 - val_accuracy: 0.4983\n",
      "Epoch 90/300\n",
      "2593/2593 [==============================] - 2s 642us/sample - loss: 0.0237 - accuracy: 0.9969 - val_loss: 2.1838 - val_accuracy: 0.4405\n",
      "Epoch 91/300\n",
      "2593/2593 [==============================] - 2s 615us/sample - loss: 0.0251 - accuracy: 0.9973 - val_loss: 2.3275 - val_accuracy: 0.4636\n",
      "Epoch 92/300\n",
      "2593/2593 [==============================] - 2s 629us/sample - loss: 0.0240 - accuracy: 0.9973 - val_loss: 2.0471 - val_accuracy: 0.4682\n",
      "Epoch 93/300\n",
      "2593/2593 [==============================] - 2s 659us/sample - loss: 0.0282 - accuracy: 0.9950 - val_loss: 2.0010 - val_accuracy: 0.4902\n",
      "Epoch 94/300\n",
      "2593/2593 [==============================] - 2s 614us/sample - loss: 0.0198 - accuracy: 0.9985 - val_loss: 2.0911 - val_accuracy: 0.4960\n",
      "Epoch 95/300\n",
      "2593/2593 [==============================] - 2s 612us/sample - loss: 0.0212 - accuracy: 0.9981 - val_loss: 2.1121 - val_accuracy: 0.4913\n",
      "Epoch 96/300\n",
      "2593/2593 [==============================] - 2s 648us/sample - loss: 0.0216 - accuracy: 0.9954 - val_loss: 2.0362 - val_accuracy: 0.4960\n",
      "Epoch 97/300\n",
      "2593/2593 [==============================] - 2s 637us/sample - loss: 0.0214 - accuracy: 0.9973 - val_loss: 1.9941 - val_accuracy: 0.4890\n",
      "Epoch 98/300\n",
      "2593/2593 [==============================] - 2s 589us/sample - loss: 0.0263 - accuracy: 0.9958 - val_loss: 2.0027 - val_accuracy: 0.4913\n",
      "Epoch 99/300\n",
      "2593/2593 [==============================] - 2s 594us/sample - loss: 0.0204 - accuracy: 0.9961 - val_loss: 2.1224 - val_accuracy: 0.4798\n",
      "Epoch 100/300\n",
      "2593/2593 [==============================] - 2s 582us/sample - loss: 0.0212 - accuracy: 0.9969 - val_loss: 2.4417 - val_accuracy: 0.4613\n",
      "Epoch 101/300\n",
      "2593/2593 [==============================] - 2s 582us/sample - loss: 0.0242 - accuracy: 0.9965 - val_loss: 2.0057 - val_accuracy: 0.4913\n",
      "Epoch 102/300\n",
      "2593/2593 [==============================] - 2s 591us/sample - loss: 0.0912 - accuracy: 0.9811 - val_loss: 1.9452 - val_accuracy: 0.5006\n",
      "Epoch 103/300\n",
      "2593/2593 [==============================] - 2s 594us/sample - loss: 0.0216 - accuracy: 0.9977 - val_loss: 1.9839 - val_accuracy: 0.4925\n",
      "Epoch 104/300\n",
      "2593/2593 [==============================] - 2s 596us/sample - loss: 0.0429 - accuracy: 0.9907 - val_loss: 2.0084 - val_accuracy: 0.4936\n",
      "Epoch 105/300\n",
      "2593/2593 [==============================] - 2s 617us/sample - loss: 0.0185 - accuracy: 0.9973 - val_loss: 2.0017 - val_accuracy: 0.5006\n",
      "Epoch 106/300\n",
      "2593/2593 [==============================] - 2s 586us/sample - loss: 0.0151 - accuracy: 0.9981 - val_loss: 2.0587 - val_accuracy: 0.4925\n",
      "Epoch 107/300\n",
      "2593/2593 [==============================] - 1s 561us/sample - loss: 0.0146 - accuracy: 0.9981 - val_loss: 2.0539 - val_accuracy: 0.4971\n",
      "Epoch 108/300\n",
      "2593/2593 [==============================] - 2s 585us/sample - loss: 0.0154 - accuracy: 0.9977 - val_loss: 2.1393 - val_accuracy: 0.4786\n",
      "Epoch 109/300\n"
     ]
    },
    {
     "name": "stdout",
     "output_type": "stream",
     "text": [
      "2593/2593 [==============================] - 1s 531us/sample - loss: 0.0164 - accuracy: 0.9973 - val_loss: 2.1056 - val_accuracy: 0.4902\n",
      "Epoch 110/300\n",
      "2593/2593 [==============================] - 1s 520us/sample - loss: 0.0142 - accuracy: 0.9977 - val_loss: 2.0979 - val_accuracy: 0.4832\n",
      "Epoch 111/300\n",
      "2593/2593 [==============================] - 1s 515us/sample - loss: 0.0167 - accuracy: 0.9969 - val_loss: 2.0786 - val_accuracy: 0.4855\n",
      "Epoch 112/300\n",
      "2593/2593 [==============================] - 1s 517us/sample - loss: 0.0144 - accuracy: 0.9981 - val_loss: 2.1348 - val_accuracy: 0.4832\n",
      "Epoch 113/300\n",
      "2593/2593 [==============================] - 1s 514us/sample - loss: 0.0160 - accuracy: 0.9973 - val_loss: 2.1241 - val_accuracy: 0.4832\n",
      "Epoch 114/300\n",
      "2593/2593 [==============================] - 1s 520us/sample - loss: 0.0134 - accuracy: 0.9981 - val_loss: 2.1366 - val_accuracy: 0.4890\n",
      "Epoch 115/300\n",
      "2593/2593 [==============================] - 1s 519us/sample - loss: 0.0141 - accuracy: 0.9977 - val_loss: 2.2193 - val_accuracy: 0.4763\n",
      "Epoch 116/300\n",
      "2593/2593 [==============================] - 1s 519us/sample - loss: 0.0142 - accuracy: 0.9973 - val_loss: 2.1176 - val_accuracy: 0.4890\n",
      "Epoch 117/300\n",
      "2593/2593 [==============================] - 1s 518us/sample - loss: 0.0149 - accuracy: 0.9973 - val_loss: 2.1266 - val_accuracy: 0.4890\n",
      "Epoch 118/300\n",
      "2593/2593 [==============================] - 1s 514us/sample - loss: 0.0155 - accuracy: 0.9977 - val_loss: 2.1801 - val_accuracy: 0.4902\n",
      "Epoch 119/300\n",
      "2593/2593 [==============================] - 1s 516us/sample - loss: 0.1162 - accuracy: 0.9730 - val_loss: 1.9476 - val_accuracy: 0.4925\n",
      "Epoch 120/300\n",
      "2593/2593 [==============================] - 1s 514us/sample - loss: 0.0192 - accuracy: 0.9973 - val_loss: 2.0223 - val_accuracy: 0.4994\n",
      "Epoch 121/300\n",
      "2593/2593 [==============================] - 1s 517us/sample - loss: 0.0711 - accuracy: 0.9842 - val_loss: 1.9544 - val_accuracy: 0.4925\n",
      "Epoch 122/300\n",
      "2593/2593 [==============================] - 1s 569us/sample - loss: 0.0211 - accuracy: 0.9965 - val_loss: 2.3227 - val_accuracy: 0.4855\n",
      "Epoch 123/300\n",
      "2593/2593 [==============================] - 2s 630us/sample - loss: 0.0135 - accuracy: 0.9985 - val_loss: 2.1025 - val_accuracy: 0.4913\n",
      "Epoch 124/300\n",
      "2593/2593 [==============================] - 2s 694us/sample - loss: 0.0214 - accuracy: 0.9950 - val_loss: 2.0792 - val_accuracy: 0.5006\n",
      "Epoch 125/300\n",
      "2593/2593 [==============================] - 2s 633us/sample - loss: 0.0142 - accuracy: 0.9973 - val_loss: 2.1111 - val_accuracy: 0.4902\n",
      "Epoch 126/300\n",
      "2593/2593 [==============================] - 2s 622us/sample - loss: 0.0117 - accuracy: 0.9981 - val_loss: 2.1478 - val_accuracy: 0.4821\n",
      "Epoch 127/300\n",
      "2593/2593 [==============================] - 2s 596us/sample - loss: 0.0114 - accuracy: 0.9985 - val_loss: 2.2620 - val_accuracy: 0.4936\n",
      "Epoch 128/300\n",
      "2593/2593 [==============================] - 2s 607us/sample - loss: 0.0131 - accuracy: 0.9977 - val_loss: 2.1864 - val_accuracy: 0.4983\n",
      "Epoch 129/300\n",
      "2593/2593 [==============================] - 2s 600us/sample - loss: 0.0121 - accuracy: 0.9981 - val_loss: 2.1615 - val_accuracy: 0.4948\n",
      "Epoch 130/300\n",
      "2593/2593 [==============================] - 2s 618us/sample - loss: 0.0124 - accuracy: 0.9981 - val_loss: 2.3193 - val_accuracy: 0.4775\n",
      "Epoch 131/300\n",
      "2593/2593 [==============================] - 2s 599us/sample - loss: 0.0133 - accuracy: 0.9977 - val_loss: 2.1723 - val_accuracy: 0.4983\n",
      "Epoch 132/300\n",
      "2593/2593 [==============================] - 2s 609us/sample - loss: 0.0103 - accuracy: 0.9977 - val_loss: 2.2104 - val_accuracy: 0.4948\n",
      "Epoch 133/300\n",
      "2593/2593 [==============================] - 2s 603us/sample - loss: 0.0100 - accuracy: 0.9985 - val_loss: 2.2134 - val_accuracy: 0.4913\n",
      "Epoch 134/300\n",
      "2593/2593 [==============================] - 2s 603us/sample - loss: 0.0109 - accuracy: 0.9981 - val_loss: 2.2190 - val_accuracy: 0.4867\n",
      "Epoch 135/300\n",
      "2593/2593 [==============================] - 2s 616us/sample - loss: 0.0109 - accuracy: 0.9981 - val_loss: 2.2507 - val_accuracy: 0.4948\n",
      "Epoch 136/300\n",
      "2593/2593 [==============================] - 2s 587us/sample - loss: 0.0112 - accuracy: 0.9977 - val_loss: 2.2051 - val_accuracy: 0.4879\n",
      "Epoch 137/300\n",
      "2593/2593 [==============================] - 1s 559us/sample - loss: 0.0103 - accuracy: 0.9981 - val_loss: 2.2197 - val_accuracy: 0.4879\n",
      "Epoch 138/300\n",
      "2593/2593 [==============================] - 1s 554us/sample - loss: 0.0099 - accuracy: 0.9981 - val_loss: 2.2644 - val_accuracy: 0.4925\n",
      "Epoch 139/300\n",
      "2593/2593 [==============================] - 1s 560us/sample - loss: 0.0129 - accuracy: 0.9973 - val_loss: 2.1931 - val_accuracy: 0.4925\n",
      "Epoch 140/300\n",
      "2593/2593 [==============================] - 1s 560us/sample - loss: 0.0103 - accuracy: 0.9981 - val_loss: 2.2079 - val_accuracy: 0.4879\n",
      "Epoch 141/300\n",
      "2593/2593 [==============================] - 1s 560us/sample - loss: 0.2622 - accuracy: 0.9618 - val_loss: 1.8732 - val_accuracy: 0.5075\n",
      "Epoch 142/300\n",
      "2593/2593 [==============================] - 1s 566us/sample - loss: 0.0222 - accuracy: 0.9973 - val_loss: 2.0541 - val_accuracy: 0.4971\n",
      "Epoch 143/300\n",
      "2593/2593 [==============================] - 1s 557us/sample - loss: 0.0143 - accuracy: 0.9977 - val_loss: 2.3223 - val_accuracy: 0.4705\n",
      "Epoch 144/300\n",
      "2593/2593 [==============================] - 2s 582us/sample - loss: 0.0126 - accuracy: 0.9981 - val_loss: 2.2330 - val_accuracy: 0.4983\n",
      "Epoch 145/300\n",
      "2593/2593 [==============================] - 1s 557us/sample - loss: 0.1286 - accuracy: 0.9796 - val_loss: 3.1709 - val_accuracy: 0.4035\n",
      "Epoch 146/300\n",
      "2593/2593 [==============================] - 1s 565us/sample - loss: 0.0313 - accuracy: 0.9958 - val_loss: 3.0232 - val_accuracy: 0.4150\n",
      "Epoch 147/300\n",
      "2593/2593 [==============================] - 1s 556us/sample - loss: 0.0700 - accuracy: 0.9830 - val_loss: 2.1504 - val_accuracy: 0.4890\n",
      "Epoch 148/300\n",
      "2593/2593 [==============================] - 1s 569us/sample - loss: 0.0131 - accuracy: 0.9981 - val_loss: 2.1052 - val_accuracy: 0.4983\n",
      "Epoch 149/300\n",
      "2593/2593 [==============================] - 1s 560us/sample - loss: 0.0122 - accuracy: 0.9981 - val_loss: 2.1542 - val_accuracy: 0.4994\n",
      "Epoch 150/300\n",
      "2593/2593 [==============================] - 1s 564us/sample - loss: 0.0152 - accuracy: 0.9958 - val_loss: 2.2345 - val_accuracy: 0.4948\n",
      "Epoch 151/300\n",
      "2593/2593 [==============================] - 1s 561us/sample - loss: 0.0103 - accuracy: 0.9981 - val_loss: 2.1886 - val_accuracy: 0.4983\n",
      "Epoch 152/300\n",
      "2593/2593 [==============================] - 1s 571us/sample - loss: 0.0116 - accuracy: 0.9977 - val_loss: 2.2061 - val_accuracy: 0.4948\n",
      "Epoch 153/300\n",
      "2593/2593 [==============================] - 1s 566us/sample - loss: 0.0123 - accuracy: 0.9973 - val_loss: 2.2724 - val_accuracy: 0.4890\n",
      "Epoch 154/300\n",
      "2593/2593 [==============================] - 1s 570us/sample - loss: 0.0095 - accuracy: 0.9981 - val_loss: 2.2892 - val_accuracy: 0.4994\n",
      "Epoch 155/300\n",
      "2593/2593 [==============================] - 1s 560us/sample - loss: 0.0103 - accuracy: 0.9985 - val_loss: 2.2497 - val_accuracy: 0.4913\n",
      "Epoch 156/300\n",
      "2593/2593 [==============================] - 1s 567us/sample - loss: 0.0089 - accuracy: 0.9985 - val_loss: 2.2719 - val_accuracy: 0.4994\n",
      "Epoch 157/300\n",
      "2593/2593 [==============================] - 1s 564us/sample - loss: 0.0110 - accuracy: 0.9973 - val_loss: 2.4539 - val_accuracy: 0.4855\n",
      "Epoch 158/300\n",
      "2593/2593 [==============================] - 1s 569us/sample - loss: 0.0108 - accuracy: 0.9981 - val_loss: 2.3055 - val_accuracy: 0.4983\n",
      "Epoch 159/300\n",
      "2593/2593 [==============================] - 1s 577us/sample - loss: 0.0102 - accuracy: 0.9977 - val_loss: 2.2405 - val_accuracy: 0.4936\n",
      "Epoch 160/300\n",
      "2593/2593 [==============================] - 1s 564us/sample - loss: 0.0107 - accuracy: 0.9977 - val_loss: 2.4028 - val_accuracy: 0.4798\n",
      "Epoch 161/300\n",
      "2593/2593 [==============================] - 1s 570us/sample - loss: 0.0105 - accuracy: 0.9973 - val_loss: 2.2731 - val_accuracy: 0.4948\n",
      "Epoch 162/300\n",
      "2593/2593 [==============================] - 1s 560us/sample - loss: 0.0102 - accuracy: 0.9973 - val_loss: 2.2923 - val_accuracy: 0.4960\n",
      "Epoch 163/300\n"
     ]
    },
    {
     "name": "stdout",
     "output_type": "stream",
     "text": [
      "2593/2593 [==============================] - 1s 518us/sample - loss: 0.0099 - accuracy: 0.9977 - val_loss: 2.2674 - val_accuracy: 0.5006\n",
      "Epoch 164/300\n",
      "2593/2593 [==============================] - 1s 519us/sample - loss: 0.0105 - accuracy: 0.9977 - val_loss: 2.3123 - val_accuracy: 0.4879\n",
      "Epoch 165/300\n",
      "2593/2593 [==============================] - 1s 530us/sample - loss: 0.0108 - accuracy: 0.9981 - val_loss: 2.2732 - val_accuracy: 0.5075\n",
      "Epoch 166/300\n",
      "2593/2593 [==============================] - 1s 519us/sample - loss: 0.0079 - accuracy: 0.9985 - val_loss: 2.2889 - val_accuracy: 0.4971\n",
      "Epoch 167/300\n",
      "2593/2593 [==============================] - 1s 515us/sample - loss: 0.0121 - accuracy: 0.9973 - val_loss: 2.2547 - val_accuracy: 0.4879\n",
      "Epoch 168/300\n",
      "2593/2593 [==============================] - 1s 516us/sample - loss: 0.0091 - accuracy: 0.9981 - val_loss: 2.2954 - val_accuracy: 0.4890\n",
      "Epoch 169/300\n",
      "2593/2593 [==============================] - 1s 517us/sample - loss: 0.0081 - accuracy: 0.9981 - val_loss: 2.3010 - val_accuracy: 0.4832\n",
      "Epoch 170/300\n",
      "2593/2593 [==============================] - 1s 517us/sample - loss: 0.0099 - accuracy: 0.9977 - val_loss: 2.2946 - val_accuracy: 0.4971\n",
      "Epoch 171/300\n",
      "2593/2593 [==============================] - 1s 517us/sample - loss: 0.0080 - accuracy: 0.9981 - val_loss: 2.3392 - val_accuracy: 0.4948\n",
      "Epoch 172/300\n",
      "2593/2593 [==============================] - 1s 516us/sample - loss: 0.0101 - accuracy: 0.9973 - val_loss: 2.2995 - val_accuracy: 0.4890\n",
      "Epoch 173/300\n",
      "2593/2593 [==============================] - 1s 520us/sample - loss: 0.0078 - accuracy: 0.9985 - val_loss: 2.2955 - val_accuracy: 0.4925\n",
      "Epoch 174/300\n",
      "2593/2593 [==============================] - 1s 516us/sample - loss: 0.0082 - accuracy: 0.9981 - val_loss: 2.3755 - val_accuracy: 0.4948\n",
      "Epoch 175/300\n",
      "2593/2593 [==============================] - 1s 518us/sample - loss: 0.0094 - accuracy: 0.9977 - val_loss: 2.4054 - val_accuracy: 0.4902\n",
      "Epoch 176/300\n",
      "2593/2593 [==============================] - 2s 679us/sample - loss: 0.0072 - accuracy: 0.9985 - val_loss: 2.3397 - val_accuracy: 0.4983\n",
      "Epoch 177/300\n",
      "2593/2593 [==============================] - 2s 693us/sample - loss: 0.0083 - accuracy: 0.9981 - val_loss: 2.3257 - val_accuracy: 0.4948\n",
      "Epoch 178/300\n",
      "2593/2593 [==============================] - 2s 596us/sample - loss: 0.0079 - accuracy: 0.9981 - val_loss: 2.4346 - val_accuracy: 0.4890\n",
      "Epoch 179/300\n",
      "2593/2593 [==============================] - 2s 600us/sample - loss: 0.0090 - accuracy: 0.9977 - val_loss: 2.4308 - val_accuracy: 0.4890\n",
      "Epoch 180/300\n",
      "2593/2593 [==============================] - 2s 597us/sample - loss: 0.0098 - accuracy: 0.9969 - val_loss: 2.2959 - val_accuracy: 0.4925\n",
      "Epoch 181/300\n",
      "2593/2593 [==============================] - 2s 637us/sample - loss: 0.0129 - accuracy: 0.9965 - val_loss: 2.3153 - val_accuracy: 0.4925\n",
      "Epoch 182/300\n",
      "2593/2593 [==============================] - 2s 631us/sample - loss: 0.0086 - accuracy: 0.9973 - val_loss: 2.3220 - val_accuracy: 0.4936\n",
      "Epoch 183/300\n",
      "2593/2593 [==============================] - 2s 600us/sample - loss: 0.0078 - accuracy: 0.9977 - val_loss: 2.3356 - val_accuracy: 0.4971\n",
      "Epoch 184/300\n",
      "2593/2593 [==============================] - 2s 609us/sample - loss: 0.0087 - accuracy: 0.9977 - val_loss: 2.3334 - val_accuracy: 0.4913\n",
      "Epoch 185/300\n",
      "2593/2593 [==============================] - ETA: 0s - loss: 0.0083 - accuracy: 0.99 - 2s 637us/sample - loss: 0.0082 - accuracy: 0.9981 - val_loss: 2.3527 - val_accuracy: 0.4902\n",
      "Epoch 186/300\n",
      "2593/2593 [==============================] - 2s 629us/sample - loss: 0.0081 - accuracy: 0.9977 - val_loss: 2.3853 - val_accuracy: 0.4855\n",
      "Epoch 187/300\n",
      "2593/2593 [==============================] - 2s 606us/sample - loss: 0.0074 - accuracy: 0.9981 - val_loss: 2.3679 - val_accuracy: 0.4936\n",
      "Epoch 188/300\n",
      "2593/2593 [==============================] - 2s 606us/sample - loss: 0.0069 - accuracy: 0.9985 - val_loss: 2.3768 - val_accuracy: 0.4960\n",
      "Epoch 189/300\n",
      "2593/2593 [==============================] - 2s 620us/sample - loss: 0.0085 - accuracy: 0.9977 - val_loss: 2.3638 - val_accuracy: 0.4960\n",
      "Epoch 190/300\n",
      "2593/2593 [==============================] - 2s 617us/sample - loss: 0.0085 - accuracy: 0.9981 - val_loss: 2.4168 - val_accuracy: 0.4832\n",
      "Epoch 191/300\n",
      "2593/2593 [==============================] - 2s 612us/sample - loss: 0.0074 - accuracy: 0.9981 - val_loss: 2.3539 - val_accuracy: 0.4971\n",
      "Epoch 192/300\n",
      "2593/2593 [==============================] - 2s 607us/sample - loss: 0.0071 - accuracy: 0.9977 - val_loss: 2.3875 - val_accuracy: 0.4879\n",
      "Epoch 193/300\n",
      "2593/2593 [==============================] - 2s 638us/sample - loss: 0.0076 - accuracy: 0.9981 - val_loss: 2.3677 - val_accuracy: 0.4994\n",
      "Epoch 194/300\n",
      "2593/2593 [==============================] - 2s 666us/sample - loss: 0.0080 - accuracy: 0.9977 - val_loss: 2.3852 - val_accuracy: 0.4983\n",
      "Epoch 195/300\n",
      "2593/2593 [==============================] - 2s 646us/sample - loss: 0.0072 - accuracy: 0.9981 - val_loss: 2.5065 - val_accuracy: 0.4809\n",
      "Epoch 196/300\n",
      "2593/2593 [==============================] - 2s 632us/sample - loss: 0.1054 - accuracy: 0.9753 - val_loss: 2.3534 - val_accuracy: 0.4659\n",
      "Epoch 197/300\n",
      "2593/2593 [==============================] - 2s 647us/sample - loss: 0.0176 - accuracy: 0.9973 - val_loss: 2.1579 - val_accuracy: 0.4902\n",
      "Epoch 198/300\n",
      "2593/2593 [==============================] - 2s 615us/sample - loss: 0.0116 - accuracy: 0.9981 - val_loss: 2.2456 - val_accuracy: 0.4902\n",
      "Epoch 199/300\n",
      "2593/2593 [==============================] - 2s 597us/sample - loss: 0.0094 - accuracy: 0.9981 - val_loss: 2.2501 - val_accuracy: 0.4936\n",
      "Epoch 200/300\n",
      "2593/2593 [==============================] - 2s 603us/sample - loss: 0.0089 - accuracy: 0.9977 - val_loss: 2.2723 - val_accuracy: 0.4913\n",
      "Epoch 201/300\n",
      "2593/2593 [==============================] - 2s 614us/sample - loss: 0.0084 - accuracy: 0.9981 - val_loss: 2.2989 - val_accuracy: 0.4913\n",
      "Epoch 202/300\n",
      "2593/2593 [==============================] - 2s 609us/sample - loss: 0.0082 - accuracy: 0.9985 - val_loss: 2.3556 - val_accuracy: 0.4960\n",
      "Epoch 203/300\n",
      "2593/2593 [==============================] - 2s 607us/sample - loss: 0.0089 - accuracy: 0.9977 - val_loss: 2.3618 - val_accuracy: 0.4902\n",
      "Epoch 204/300\n",
      "2593/2593 [==============================] - 2s 601us/sample - loss: 0.0076 - accuracy: 0.9981 - val_loss: 2.3643 - val_accuracy: 0.4913\n",
      "Epoch 205/300\n",
      "2593/2593 [==============================] - 2s 604us/sample - loss: 0.0071 - accuracy: 0.9985 - val_loss: 2.3650 - val_accuracy: 0.4983\n",
      "Epoch 206/300\n",
      "2593/2593 [==============================] - 2s 609us/sample - loss: 0.0078 - accuracy: 0.9981 - val_loss: 2.3991 - val_accuracy: 0.4879\n",
      "Epoch 207/300\n",
      "2593/2593 [==============================] - 2s 592us/sample - loss: 0.0071 - accuracy: 0.9981 - val_loss: 2.3872 - val_accuracy: 0.4879\n",
      "Epoch 208/300\n",
      "2593/2593 [==============================] - 1s 569us/sample - loss: 0.0077 - accuracy: 0.9985 - val_loss: 2.3712 - val_accuracy: 0.4936\n",
      "Epoch 209/300\n",
      "2593/2593 [==============================] - 1s 573us/sample - loss: 0.0081 - accuracy: 0.9981 - val_loss: 2.3772 - val_accuracy: 0.4948\n",
      "Epoch 210/300\n",
      "2593/2593 [==============================] - 1s 561us/sample - loss: 0.0071 - accuracy: 0.9981 - val_loss: 2.5009 - val_accuracy: 0.4879\n",
      "Epoch 211/300\n",
      "2593/2593 [==============================] - 1s 562us/sample - loss: 0.0073 - accuracy: 0.9981 - val_loss: 2.3925 - val_accuracy: 0.4913\n",
      "Epoch 212/300\n",
      "2593/2593 [==============================] - 1s 568us/sample - loss: 0.0068 - accuracy: 0.9981 - val_loss: 2.4415 - val_accuracy: 0.4925\n",
      "Epoch 213/300\n",
      "2593/2593 [==============================] - 1s 568us/sample - loss: 0.0070 - accuracy: 0.9981 - val_loss: 2.3895 - val_accuracy: 0.4960\n",
      "Epoch 214/300\n",
      "2593/2593 [==============================] - 1s 562us/sample - loss: 0.0066 - accuracy: 0.9981 - val_loss: 2.3831 - val_accuracy: 0.4994\n",
      "Epoch 215/300\n",
      "2593/2593 [==============================] - 1s 565us/sample - loss: 0.0090 - accuracy: 0.9969 - val_loss: 2.4049 - val_accuracy: 0.4867\n",
      "Epoch 216/300\n",
      "2593/2593 [==============================] - 1s 570us/sample - loss: 0.0093 - accuracy: 0.9977 - val_loss: 2.3984 - val_accuracy: 0.4925\n",
      "Epoch 217/300\n"
     ]
    },
    {
     "name": "stdout",
     "output_type": "stream",
     "text": [
      "2593/2593 [==============================] - 1s 519us/sample - loss: 0.0066 - accuracy: 0.9981 - val_loss: 2.5244 - val_accuracy: 0.4821\n",
      "Epoch 218/300\n",
      "2593/2593 [==============================] - 1s 518us/sample - loss: 0.0079 - accuracy: 0.9977 - val_loss: 2.4019 - val_accuracy: 0.5017\n",
      "Epoch 219/300\n",
      "2593/2593 [==============================] - 1s 522us/sample - loss: 0.0073 - accuracy: 0.9981 - val_loss: 2.4225 - val_accuracy: 0.4902\n",
      "Epoch 220/300\n",
      "2593/2593 [==============================] - 1s 526us/sample - loss: 0.0057 - accuracy: 0.9985 - val_loss: 2.4239 - val_accuracy: 0.4948\n",
      "Epoch 221/300\n",
      "2593/2593 [==============================] - 2s 643us/sample - loss: 0.0057 - accuracy: 0.9985 - val_loss: 2.5347 - val_accuracy: 0.4832\n",
      "Epoch 222/300\n",
      "2593/2593 [==============================] - 2s 608us/sample - loss: 0.0061 - accuracy: 0.9985 - val_loss: 2.4475 - val_accuracy: 0.4879\n",
      "Epoch 223/300\n",
      "2593/2593 [==============================] - 2s 602us/sample - loss: 0.0059 - accuracy: 0.9985 - val_loss: 2.4461 - val_accuracy: 0.4983\n",
      "Epoch 224/300\n",
      "2593/2593 [==============================] - 2s 643us/sample - loss: 0.0068 - accuracy: 0.9981 - val_loss: 2.4565 - val_accuracy: 0.4936\n",
      "Epoch 225/300\n",
      "2593/2593 [==============================] - 1s 577us/sample - loss: 0.0062 - accuracy: 0.9985 - val_loss: 2.4379 - val_accuracy: 0.4925\n",
      "Epoch 226/300\n",
      "2593/2593 [==============================] - 1s 578us/sample - loss: 0.0072 - accuracy: 0.9977 - val_loss: 2.4347 - val_accuracy: 0.4890\n",
      "Epoch 227/300\n",
      "2593/2593 [==============================] - 2s 580us/sample - loss: 0.0071 - accuracy: 0.9977 - val_loss: 2.4762 - val_accuracy: 0.4890\n",
      "Epoch 228/300\n",
      "2593/2593 [==============================] - 2s 581us/sample - loss: 0.0073 - accuracy: 0.9981 - val_loss: 2.4603 - val_accuracy: 0.4948\n",
      "Epoch 229/300\n",
      "2593/2593 [==============================] - 2s 592us/sample - loss: 0.0073 - accuracy: 0.9981 - val_loss: 2.4071 - val_accuracy: 0.4983\n",
      "Epoch 230/300\n",
      "2593/2593 [==============================] - 2s 594us/sample - loss: 0.0097 - accuracy: 0.9969 - val_loss: 2.3927 - val_accuracy: 0.5064\n",
      "Epoch 231/300\n",
      "2593/2593 [==============================] - 2s 589us/sample - loss: 0.0061 - accuracy: 0.9985 - val_loss: 2.4309 - val_accuracy: 0.4960\n",
      "Epoch 232/300\n",
      "2593/2593 [==============================] - 2s 620us/sample - loss: 0.0079 - accuracy: 0.9977 - val_loss: 2.4238 - val_accuracy: 0.4960\n",
      "Epoch 233/300\n",
      "2593/2593 [==============================] - 2s 692us/sample - loss: 0.0079 - accuracy: 0.9977 - val_loss: 2.4295 - val_accuracy: 0.4983\n",
      "Epoch 234/300\n",
      "2593/2593 [==============================] - 2s 587us/sample - loss: 0.0053 - accuracy: 0.9985 - val_loss: 2.4845 - val_accuracy: 0.4913\n",
      "Epoch 235/300\n",
      "2593/2593 [==============================] - 2s 658us/sample - loss: 0.0074 - accuracy: 0.9981 - val_loss: 2.4527 - val_accuracy: 0.4913\n",
      "Epoch 236/300\n",
      "2593/2593 [==============================] - 2s 603us/sample - loss: 0.0062 - accuracy: 0.9981 - val_loss: 2.4407 - val_accuracy: 0.4925\n",
      "Epoch 237/300\n",
      "2593/2593 [==============================] - 2s 672us/sample - loss: 0.0074 - accuracy: 0.9981 - val_loss: 2.6950 - val_accuracy: 0.4740\n",
      "Epoch 238/300\n",
      "2593/2593 [==============================] - 2s 723us/sample - loss: 0.1490 - accuracy: 0.9649 - val_loss: 3.8392 - val_accuracy: 0.3329\n",
      "Epoch 239/300\n",
      "2593/2593 [==============================] - 2s 699us/sample - loss: 0.0315 - accuracy: 0.9931 - val_loss: 2.1899 - val_accuracy: 0.5017\n",
      "Epoch 240/300\n",
      "2593/2593 [==============================] - 2s 663us/sample - loss: 0.0110 - accuracy: 0.9977 - val_loss: 2.1909 - val_accuracy: 0.5029\n",
      "Epoch 241/300\n",
      "2593/2593 [==============================] - 2s 636us/sample - loss: 0.0081 - accuracy: 0.9981 - val_loss: 2.2477 - val_accuracy: 0.4913\n",
      "Epoch 242/300\n",
      "2593/2593 [==============================] - 2s 710us/sample - loss: 0.0071 - accuracy: 0.9985 - val_loss: 2.3624 - val_accuracy: 0.4913\n",
      "Epoch 243/300\n",
      "2593/2593 [==============================] - 2s 630us/sample - loss: 0.0067 - accuracy: 0.9985 - val_loss: 2.3292 - val_accuracy: 0.4960\n",
      "Epoch 244/300\n",
      "2593/2593 [==============================] - 2s 610us/sample - loss: 0.0088 - accuracy: 0.9977 - val_loss: 2.3608 - val_accuracy: 0.4844\n",
      "Epoch 245/300\n",
      "2593/2593 [==============================] - 2s 662us/sample - loss: 0.0083 - accuracy: 0.9977 - val_loss: 2.4136 - val_accuracy: 0.4867\n",
      "Epoch 246/300\n",
      "2593/2593 [==============================] - 2s 652us/sample - loss: 0.0085 - accuracy: 0.9973 - val_loss: 2.3965 - val_accuracy: 0.4890\n",
      "Epoch 247/300\n",
      "2593/2593 [==============================] - 2s 589us/sample - loss: 0.0068 - accuracy: 0.9981 - val_loss: 2.3901 - val_accuracy: 0.4925\n",
      "Epoch 248/300\n",
      "2593/2593 [==============================] - 2s 583us/sample - loss: 0.0060 - accuracy: 0.9985 - val_loss: 2.4475 - val_accuracy: 0.4913\n",
      "Epoch 249/300\n",
      "2593/2593 [==============================] - 2s 594us/sample - loss: 0.0070 - accuracy: 0.9981 - val_loss: 2.4375 - val_accuracy: 0.4960\n",
      "Epoch 250/300\n",
      "2593/2593 [==============================] - 2s 592us/sample - loss: 0.0058 - accuracy: 0.9985 - val_loss: 2.5111 - val_accuracy: 0.4809\n",
      "Epoch 251/300\n",
      "2593/2593 [==============================] - 2s 588us/sample - loss: 0.0053 - accuracy: 0.9985 - val_loss: 2.5209 - val_accuracy: 0.4936\n",
      "Epoch 252/300\n",
      "2593/2593 [==============================] - 2s 603us/sample - loss: 0.0066 - accuracy: 0.9981 - val_loss: 2.4312 - val_accuracy: 0.4960\n",
      "Epoch 253/300\n",
      "2593/2593 [==============================] - 2s 594us/sample - loss: 0.0073 - accuracy: 0.9981 - val_loss: 2.4875 - val_accuracy: 0.4855\n",
      "Epoch 254/300\n",
      "2593/2593 [==============================] - 2s 592us/sample - loss: 0.0061 - accuracy: 0.9981 - val_loss: 2.7532 - val_accuracy: 0.4728\n",
      "Epoch 255/300\n",
      "2593/2593 [==============================] - 2s 587us/sample - loss: 0.0062 - accuracy: 0.9981 - val_loss: 2.5366 - val_accuracy: 0.4832\n",
      "Epoch 256/300\n",
      "2593/2593 [==============================] - 2s 599us/sample - loss: 0.0052 - accuracy: 0.9985 - val_loss: 2.6410 - val_accuracy: 0.4763\n",
      "Epoch 257/300\n",
      "2593/2593 [==============================] - 1s 555us/sample - loss: 0.0054 - accuracy: 0.9981 - val_loss: 2.5871 - val_accuracy: 0.4798\n",
      "Epoch 258/300\n",
      "2593/2593 [==============================] - 1s 568us/sample - loss: 0.0070 - accuracy: 0.9981 - val_loss: 2.5588 - val_accuracy: 0.4855\n",
      "Epoch 259/300\n",
      "2593/2593 [==============================] - 1s 554us/sample - loss: 0.0072 - accuracy: 0.9977 - val_loss: 2.5050 - val_accuracy: 0.4925\n",
      "Epoch 260/300\n",
      "2593/2593 [==============================] - 1s 556us/sample - loss: 0.0052 - accuracy: 0.9985 - val_loss: 2.5250 - val_accuracy: 0.4763\n",
      "Epoch 261/300\n",
      "2593/2593 [==============================] - 1s 563us/sample - loss: 0.0053 - accuracy: 0.9985 - val_loss: 2.5338 - val_accuracy: 0.4913\n",
      "Epoch 262/300\n",
      "2593/2593 [==============================] - 1s 561us/sample - loss: 0.0055 - accuracy: 0.9985 - val_loss: 2.4933 - val_accuracy: 0.4948\n",
      "Epoch 263/300\n",
      "2593/2593 [==============================] - 1s 564us/sample - loss: 0.0073 - accuracy: 0.9977 - val_loss: 2.5168 - val_accuracy: 0.4855\n",
      "Epoch 264/300\n",
      "2593/2593 [==============================] - 1s 560us/sample - loss: 0.0050 - accuracy: 0.9985 - val_loss: 2.7443 - val_accuracy: 0.4694\n",
      "Epoch 265/300\n",
      "2593/2593 [==============================] - 1s 569us/sample - loss: 0.0058 - accuracy: 0.9985 - val_loss: 2.5133 - val_accuracy: 0.4821\n",
      "Epoch 266/300\n",
      "2593/2593 [==============================] - 1s 573us/sample - loss: 0.0056 - accuracy: 0.9981 - val_loss: 2.5450 - val_accuracy: 0.4890\n",
      "Epoch 267/300\n",
      "2593/2593 [==============================] - 1s 564us/sample - loss: 0.0074 - accuracy: 0.9977 - val_loss: 2.5302 - val_accuracy: 0.4809\n",
      "Epoch 268/300\n",
      "2593/2593 [==============================] - 1s 574us/sample - loss: 0.0055 - accuracy: 0.9981 - val_loss: 2.5014 - val_accuracy: 0.4960\n",
      "Epoch 269/300\n",
      "2593/2593 [==============================] - 1s 558us/sample - loss: 0.0078 - accuracy: 0.9981 - val_loss: 2.6659 - val_accuracy: 0.4786\n",
      "Epoch 270/300\n",
      "2593/2593 [==============================] - 1s 560us/sample - loss: 0.0054 - accuracy: 0.9981 - val_loss: 2.5453 - val_accuracy: 0.4855\n",
      "Epoch 271/300\n"
     ]
    },
    {
     "name": "stdout",
     "output_type": "stream",
     "text": [
      "2593/2593 [==============================] - 1s 518us/sample - loss: 0.0048 - accuracy: 0.9985 - val_loss: 2.5039 - val_accuracy: 0.4913\n",
      "Epoch 272/300\n",
      "2593/2593 [==============================] - 1s 518us/sample - loss: 0.0059 - accuracy: 0.9981 - val_loss: 2.4947 - val_accuracy: 0.4994\n",
      "Epoch 273/300\n",
      "2593/2593 [==============================] - 1s 517us/sample - loss: 0.0063 - accuracy: 0.9981 - val_loss: 2.5572 - val_accuracy: 0.4798\n",
      "Epoch 274/300\n",
      "2593/2593 [==============================] - 1s 516us/sample - loss: 0.0064 - accuracy: 0.9981 - val_loss: 2.4954 - val_accuracy: 0.4913\n",
      "Epoch 275/300\n",
      "2593/2593 [==============================] - 1s 537us/sample - loss: 0.0054 - accuracy: 0.9981 - val_loss: 2.5645 - val_accuracy: 0.4786\n",
      "Epoch 276/300\n",
      "2593/2593 [==============================] - 1s 517us/sample - loss: 0.0062 - accuracy: 0.9977 - val_loss: 2.5173 - val_accuracy: 0.4890\n",
      "Epoch 277/300\n",
      "2593/2593 [==============================] - 1s 518us/sample - loss: 0.0068 - accuracy: 0.9981 - val_loss: 2.5337 - val_accuracy: 0.4855\n",
      "Epoch 278/300\n",
      "2593/2593 [==============================] - 1s 513us/sample - loss: 0.0058 - accuracy: 0.9981 - val_loss: 2.5293 - val_accuracy: 0.4855\n",
      "Epoch 279/300\n",
      "2593/2593 [==============================] - 1s 518us/sample - loss: 0.0066 - accuracy: 0.9977 - val_loss: 2.5744 - val_accuracy: 0.4844\n",
      "Epoch 280/300\n",
      "2593/2593 [==============================] - 1s 517us/sample - loss: 0.0063 - accuracy: 0.9981 - val_loss: 2.5415 - val_accuracy: 0.4879\n",
      "Epoch 281/300\n",
      "2593/2593 [==============================] - 1s 518us/sample - loss: 0.0057 - accuracy: 0.9981 - val_loss: 2.5418 - val_accuracy: 0.4913\n",
      "Epoch 282/300\n",
      "2593/2593 [==============================] - 1s 518us/sample - loss: 0.0052 - accuracy: 0.9981 - val_loss: 2.8371 - val_accuracy: 0.4682\n",
      "Epoch 283/300\n",
      "2593/2593 [==============================] - 1s 518us/sample - loss: 0.0057 - accuracy: 0.9988 - val_loss: 2.5565 - val_accuracy: 0.4890\n",
      "Epoch 284/300\n",
      "2593/2593 [==============================] - 1s 519us/sample - loss: 0.0064 - accuracy: 0.9985 - val_loss: 2.5153 - val_accuracy: 0.4879\n",
      "Epoch 285/300\n",
      "2593/2593 [==============================] - 1s 522us/sample - loss: 0.0048 - accuracy: 0.9992 - val_loss: 2.5607 - val_accuracy: 0.4902\n",
      "Epoch 286/300\n",
      "2593/2593 [==============================] - 1s 519us/sample - loss: 0.0061 - accuracy: 0.9981 - val_loss: 2.5925 - val_accuracy: 0.4855\n",
      "Epoch 287/300\n",
      "2593/2593 [==============================] - 1s 518us/sample - loss: 0.0062 - accuracy: 0.9985 - val_loss: 2.6414 - val_accuracy: 0.4855\n",
      "Epoch 288/300\n",
      "2593/2593 [==============================] - 1s 517us/sample - loss: 0.0055 - accuracy: 0.9988 - val_loss: 2.6112 - val_accuracy: 0.4821\n",
      "Epoch 289/300\n",
      "2593/2593 [==============================] - 1s 520us/sample - loss: 0.0058 - accuracy: 0.9985 - val_loss: 2.5718 - val_accuracy: 0.4867\n",
      "Epoch 290/300\n",
      "2593/2593 [==============================] - 1s 521us/sample - loss: 0.0061 - accuracy: 0.9988 - val_loss: 2.6009 - val_accuracy: 0.4925\n",
      "Epoch 291/300\n",
      "2593/2593 [==============================] - 1s 517us/sample - loss: 0.0052 - accuracy: 0.9988 - val_loss: 2.5278 - val_accuracy: 0.4948\n",
      "Epoch 292/300\n",
      "2593/2593 [==============================] - 1s 569us/sample - loss: 0.0052 - accuracy: 0.9988 - val_loss: 2.7941 - val_accuracy: 0.4705\n",
      "Epoch 293/300\n",
      "2593/2593 [==============================] - 2s 691us/sample - loss: 0.0059 - accuracy: 0.9988 - val_loss: 2.5772 - val_accuracy: 0.4879\n",
      "Epoch 294/300\n",
      "2593/2593 [==============================] - 2s 619us/sample - loss: 0.0050 - accuracy: 0.9988 - val_loss: 2.5332 - val_accuracy: 0.4936\n",
      "Epoch 295/300\n",
      "2593/2593 [==============================] - 2s 614us/sample - loss: 0.0056 - accuracy: 0.9985 - val_loss: 2.5343 - val_accuracy: 0.4902\n",
      "Epoch 296/300\n",
      "2593/2593 [==============================] - 2s 605us/sample - loss: 0.0060 - accuracy: 0.9988 - val_loss: 2.5828 - val_accuracy: 0.4821\n",
      "Epoch 297/300\n",
      "2593/2593 [==============================] - 2s 598us/sample - loss: 0.0057 - accuracy: 0.9988 - val_loss: 2.5456 - val_accuracy: 0.4879\n",
      "Epoch 298/300\n",
      "2593/2593 [==============================] - 2s 637us/sample - loss: 0.0059 - accuracy: 0.9988 - val_loss: 2.5467 - val_accuracy: 0.4971\n",
      "Epoch 299/300\n",
      "2593/2593 [==============================] - 2s 613us/sample - loss: 0.0056 - accuracy: 0.9988 - val_loss: 2.5409 - val_accuracy: 0.4936\n",
      "Epoch 300/300\n",
      "2593/2593 [==============================] - 2s 622us/sample - loss: 0.0048 - accuracy: 0.9992 - val_loss: 2.6764 - val_accuracy: 0.4786\n"
     ]
    }
   ],
   "source": [
    "history = model.fit(X_train,y_train,epochs=300,validation_data=(X_val,y_val))"
   ]
  },
  {
   "cell_type": "code",
   "execution_count": 67,
   "metadata": {},
   "outputs": [
    {
     "data": {
      "image/png": "[encoded data removed]",
      "text/plain": [
       "<Figure size 720x360 with 1 Axes>"
      ]
     },
     "metadata": {
      "needs_background": "light"
     },
     "output_type": "display_data"
    }
   ],
   "source": [
    "pd.DataFrame(history.history).plot(figsize=(10, 5))\n",
    "plt.grid(True)\n",
    "plt.gca().set_ylim(0, 1) # set the vertical range to [0-1]\n",
    "plt.show()"
   ]
  },
  {
   "cell_type": "code",
   "execution_count": 68,
   "metadata": {},
   "outputs": [
    {
     "data": {
      "text/plain": [
       "[<matplotlib.lines.Line2D at 0x7ff619c2d588>]"
      ]
     },
     "execution_count": 68,
     "metadata": {},
     "output_type": "execute_result"
    },
    {
     "data": {
      "image/png": "[encoded data removed]",
      "text/plain": [
       "<Figure size 432x288 with 1 Axes>"
      ]
     },
     "metadata": {
      "needs_background": "light"
     },
     "output_type": "display_data"
    }
   ],
   "source": [
    "plt.plot(history.history['val_loss'])"
   ]
  },
  {
   "cell_type": "code",
   "execution_count": 69,
   "metadata": {},
   "outputs": [],
   "source": [
    "y_pred = model.predict_classes(X_test)"
   ]
  },
  {
   "cell_type": "code",
   "execution_count": 70,
   "metadata": {},
   "outputs": [
    {
     "name": "stdout",
     "output_type": "stream",
     "text": [
      "              precision    recall  f1-score   support\n",
      "\n",
      "         0.0       0.42      0.44      0.43       153\n",
      "         1.0       0.48      0.63      0.54       197\n",
      "         2.0       0.41      0.50      0.45       159\n",
      "         3.0       0.67      0.63      0.65       146\n",
      "         4.0       0.60      0.32      0.42       210\n",
      "\n",
      "   micro avg       0.50      0.50      0.50       865\n",
      "   macro avg       0.51      0.50      0.50       865\n",
      "weighted avg       0.52      0.50      0.49       865\n",
      "\n"
     ]
    }
   ],
   "source": [
    "print(classification_report(y_test,y_pred))"
   ]
  },
  {
   "cell_type": "code",
   "execution_count": 71,
   "metadata": {},
   "outputs": [
    {
     "name": "stdout",
     "output_type": "stream",
     "text": [
      "[[ 67  55  19   6   6]\n",
      " [ 33 125  21  16   2]\n",
      " [ 26  21  79   3  30]\n",
      " [ 15  22  10  92   7]\n",
      " [ 20  39  64  20  67]]\n"
     ]
    }
   ],
   "source": [
    "print(confusion_matrix(y_test,y_pred))"
   ]
  },
  {
   "cell_type": "code",
   "execution_count": 79,
   "metadata": {},
   "outputs": [
    {
     "name": "stdout",
     "output_type": "stream",
     "text": [
      "865/865 [==============================] - 0s 217us/sample - loss: 2.4822 - accuracy: 0.4971\n"
     ]
    },
    {
     "data": {
      "text/plain": [
       "[2.4821590352092864, 0.49710983]"
      ]
     },
     "execution_count": 79,
     "metadata": {},
     "output_type": "execute_result"
    }
   ],
   "source": [
    "model.evaluate(X_test,y_test)"
   ]
  },
  {
   "cell_type": "code",
   "execution_count": null,
   "metadata": {},
   "outputs": [],
   "source": []
  },
  {
   "cell_type": "code",
   "execution_count": null,
   "metadata": {},
   "outputs": [],
   "source": []
  },
  {
   "cell_type": "code",
   "execution_count": null,
   "metadata": {},
   "outputs": [],
   "source": []
  },
  {
   "cell_type": "code",
   "execution_count": null,
   "metadata": {},
   "outputs": [],
   "source": []
  },
  {
   "cell_type": "code",
   "execution_count": null,
   "metadata": {},
   "outputs": [],
   "source": []
  },
  {
   "cell_type": "code",
   "execution_count": null,
   "metadata": {},
   "outputs": [],
   "source": []
  },
  {
   "cell_type": "code",
   "execution_count": null,
   "metadata": {},
   "outputs": [],
   "source": []
  },
  {
   "cell_type": "code",
   "execution_count": null,
   "metadata": {},
   "outputs": [],
   "source": []
  },
  {
   "cell_type": "code",
   "execution_count": null,
   "metadata": {},
   "outputs": [],
   "source": []
  },
  {
   "cell_type": "code",
   "execution_count": null,
   "metadata": {},
   "outputs": [],
   "source": []
  },
  {
   "cell_type": "code",
   "execution_count": null,
   "metadata": {},
   "outputs": [],
   "source": []
  },
  {
   "cell_type": "code",
   "execution_count": null,
   "metadata": {},
   "outputs": [],
   "source": []
  },
  {
   "cell_type": "code",
   "execution_count": null,
   "metadata": {},
   "outputs": [],
   "source": []
  },
  {
   "cell_type": "code",
   "execution_count": null,
   "metadata": {},
   "outputs": [],
   "source": []
  },
  {
   "cell_type": "code",
   "execution_count": null,
   "metadata": {},
   "outputs": [],
   "source": []
  },
  {
   "cell_type": "code",
   "execution_count": null,
   "metadata": {},
   "outputs": [],
   "source": []
  },
  {
   "cell_type": "code",
   "execution_count": null,
   "metadata": {},
   "outputs": [],
   "source": []
  }
 ],
 "metadata": {
  "kernelspec": {
   "display_name": "Python 3",
   "language": "python",
   "name": "python3"
  },
  "language_info": {
   "codemirror_mode": {
    "name": "ipython",
    "version": 3
   },
   "file_extension": ".py",
   "mimetype": "text/x-python",
   "name": "python",
   "nbconvert_exporter": "python",
   "pygments_lexer": "ipython3",
   "version": "3.7.3"
  }
 },
 "nbformat": 4,
 "nbformat_minor": 2
}
