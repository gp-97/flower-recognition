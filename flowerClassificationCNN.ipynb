{
 "cells": [
  {
   "cell_type": "code",
   "execution_count": 1,
   "metadata": {},
   "outputs": [],
   "source": [
    "import numpy as np\n",
    "import pandas as pd\n",
    "import matplotlib.pyplot as plt\n",
    "import os\n",
    "import tensorflow as tf\n",
    "from tensorflow import keras\n",
    "from sklearn.model_selection import train_test_split\n",
    "from sklearn.metrics import classification_report,confusion_matrix\n",
    "import cv2\n",
    "from tqdm import tqdm\n",
    "%matplotlib inline"
   ]
  },
  {
   "cell_type": "code",
   "execution_count": 2,
   "metadata": {},
   "outputs": [
    {
     "name": "stderr",
     "output_type": "stream",
     "text": [
      "Using TensorFlow backend.\n"
     ]
    }
   ],
   "source": [
    "from keras.models import Sequential\n",
    "from keras.layers import Dense, Conv1D, Flatten, MaxPooling2D, Conv2D, MaxPool1D, Dropout\n",
    "from keras import optimizers\n",
    "from keras.utils import to_categorical"
   ]
  },
  {
   "cell_type": "code",
   "execution_count": 3,
   "metadata": {},
   "outputs": [],
   "source": [
    "path_daisy = 'daisy/'\n",
    "path_dandelion = 'dandelion/'\n",
    "path_rose = 'rose/'\n",
    "path_sunflower = 'sunflower/'\n",
    "path_tulip = 'tulip/'"
   ]
  },
  {
   "cell_type": "code",
   "execution_count": 4,
   "metadata": {},
   "outputs": [],
   "source": [
    "daisy = os.listdir(path_daisy)\n",
    "dandelion = os.listdir(path_dandelion)\n",
    "rose = os.listdir(path_rose)\n",
    "sunflower = os.listdir(path_sunflower)\n",
    "tulip = os.listdir(path_tulip)"
   ]
  },
  {
   "cell_type": "code",
   "execution_count": 5,
   "metadata": {},
   "outputs": [
    {
     "name": "stdout",
     "output_type": "stream",
     "text": [
      "No. of samples:\n",
      "daisy =\t 769 \n",
      "dandelion =\t 1052 \n",
      "rose =\t 784 \n",
      "sunflower =\t 734 \n",
      "tulip =\t 984\n"
     ]
    }
   ],
   "source": [
    "print('No. of samples:\\ndaisy =\\t',len(daisy),'\\ndandelion =\\t',len(dandelion),'\\nrose =\\t',len(rose),'\\nsunflower =\\t',len(sunflower),'\\ntulip =\\t',len(tulip))"
   ]
  },
  {
   "cell_type": "code",
   "execution_count": 6,
   "metadata": {},
   "outputs": [],
   "source": [
    "totalSamples = len(dandelion)+len(daisy)+len(rose)+len(sunflower)+len(tulip)"
   ]
  },
  {
   "cell_type": "code",
   "execution_count": 7,
   "metadata": {},
   "outputs": [
    {
     "name": "stdout",
     "output_type": "stream",
     "text": [
      "4323\n"
     ]
    }
   ],
   "source": [
    "print(totalSamples)"
   ]
  },
  {
   "cell_type": "code",
   "execution_count": 8,
   "metadata": {},
   "outputs": [],
   "source": [
    "target = ['daisy','dandelion','rose','sunflower','tulip']"
   ]
  },
  {
   "cell_type": "code",
   "execution_count": 9,
   "metadata": {},
   "outputs": [],
   "source": [
    "y_daisy = [0]*len(daisy)\n",
    "y_dandelion = [1]*len(dandelion)\n",
    "y_rose = [2]*len(rose)\n",
    "y_sunflower = [3]*len(sunflower)\n",
    "y_tulip = [4]*len(tulip)"
   ]
  },
  {
   "cell_type": "code",
   "execution_count": 10,
   "metadata": {},
   "outputs": [],
   "source": [
    "pixel = 50;"
   ]
  },
  {
   "cell_type": "code",
   "execution_count": 11,
   "metadata": {},
   "outputs": [],
   "source": [
    "def resizer(pic):\n",
    "    pic = cv2.resize(pic,(pixel,pixel))\n",
    "    #pic = pic.reshape(1,pic.shape[0]*pic.shape[1]*pic.shape[2])\n",
    "    pic = pic/255\n",
    "    return pic"
   ]
  },
  {
   "cell_type": "code",
   "execution_count": 12,
   "metadata": {},
   "outputs": [
    {
     "data": {
      "text/plain": [
       "'img_dandelion = np.zeros((len(dandelion),1))\\nimg_rose = np.zeros((len(rose),1))\\nimg_sunflower = np.zeros((len(sunflower),1))\\nimg_tulip = np.zeros((len(tulip),1))\\n'"
      ]
     },
     "execution_count": 12,
     "metadata": {},
     "output_type": "execute_result"
    }
   ],
   "source": [
    "#img_daisy = np.zeros((len(daisy),1))\n",
    "img_flowers = []\n",
    "'''img_dandelion = np.zeros((len(dandelion),1))\n",
    "img_rose = np.zeros((len(rose),1))\n",
    "img_sunflower = np.zeros((len(sunflower),1))\n",
    "img_tulip = np.zeros((len(tulip),1))\n",
    "'''"
   ]
  },
  {
   "cell_type": "code",
   "execution_count": 13,
   "metadata": {},
   "outputs": [
    {
     "name": "stderr",
     "output_type": "stream",
     "text": [
      "100%|███████████████████████████████████████████████████████████████████████████████| 769/769 [00:02<00:00, 378.79it/s]\n"
     ]
    }
   ],
   "source": [
    "i = 0\n",
    "for i in tqdm(range(len(daisy))):\n",
    "    pic = cv2.imread(path_daisy+daisy[i])\n",
    "    pic = cv2.cvtColor(pic,cv2.COLOR_BGR2RGB)\n",
    "    pic = resizer(pic)\n",
    "    img_flowers.append(pic)"
   ]
  },
  {
   "cell_type": "code",
   "execution_count": 14,
   "metadata": {},
   "outputs": [
    {
     "name": "stderr",
     "output_type": "stream",
     "text": [
      "100%|██████████████████████████████████████████████████████████████████████████████| 1052/1052 [00:17<00:00, 60.29it/s]\n"
     ]
    }
   ],
   "source": [
    "i = 0\n",
    "for i in tqdm(range(len(dandelion))):\n",
    "    pic = cv2.imread(path_dandelion+dandelion[i])\n",
    "    pic = cv2.cvtColor(pic,cv2.COLOR_BGR2RGB)\n",
    "    pic = resizer(pic)\n",
    "    img_flowers.append(pic)"
   ]
  },
  {
   "cell_type": "code",
   "execution_count": 15,
   "metadata": {},
   "outputs": [
    {
     "name": "stderr",
     "output_type": "stream",
     "text": [
      "100%|████████████████████████████████████████████████████████████████████████████████| 784/784 [00:16<00:00, 48.17it/s]\n"
     ]
    }
   ],
   "source": [
    "i = 0\n",
    "for i in tqdm(range(len(rose))):\n",
    "    pic = cv2.imread(path_rose+rose[i])\n",
    "    pic = cv2.cvtColor(pic,cv2.COLOR_BGR2RGB)\n",
    "    pic = resizer(pic)\n",
    "    img_flowers.append(pic)"
   ]
  },
  {
   "cell_type": "code",
   "execution_count": 16,
   "metadata": {},
   "outputs": [
    {
     "name": "stderr",
     "output_type": "stream",
     "text": [
      "100%|████████████████████████████████████████████████████████████████████████████████| 734/734 [00:11<00:00, 61.42it/s]\n"
     ]
    }
   ],
   "source": [
    "i = 0\n",
    "for i in tqdm(range(len(sunflower))):\n",
    "    pic = cv2.imread(path_sunflower+sunflower[i])\n",
    "    pic = cv2.cvtColor(pic,cv2.COLOR_BGR2RGB)\n",
    "    pic = resizer(pic)\n",
    "    img_flowers.append(pic)"
   ]
  },
  {
   "cell_type": "code",
   "execution_count": 17,
   "metadata": {},
   "outputs": [
    {
     "name": "stderr",
     "output_type": "stream",
     "text": [
      "100%|████████████████████████████████████████████████████████████████████████████████| 984/984 [00:10<00:00, 92.63it/s]\n"
     ]
    }
   ],
   "source": [
    "i = 0\n",
    "for i in tqdm(range(len(tulip))):\n",
    "    pic = cv2.imread(path_tulip+tulip[i])\n",
    "    pic = cv2.cvtColor(pic,cv2.COLOR_BGR2RGB)\n",
    "    pic = resizer(pic)\n",
    "    img_flowers.append(pic)"
   ]
  },
  {
   "cell_type": "code",
   "execution_count": 18,
   "metadata": {},
   "outputs": [],
   "source": [
    "img_flowers = np.array(img_flowers)"
   ]
  },
  {
   "cell_type": "code",
   "execution_count": 19,
   "metadata": {},
   "outputs": [
    {
     "data": {
      "text/plain": [
       "(4323, 50, 50, 3)"
      ]
     },
     "execution_count": 19,
     "metadata": {},
     "output_type": "execute_result"
    }
   ],
   "source": [
    "img_flowers.shape"
   ]
  },
  {
   "cell_type": "code",
   "execution_count": 20,
   "metadata": {},
   "outputs": [],
   "source": [
    "Y = y_daisy+y_dandelion+y_rose+y_sunflower+y_tulip\n",
    "Y = np.array(Y)\n",
    "Y = np.reshape(Y,(Y.shape[0],1))"
   ]
  },
  {
   "cell_type": "code",
   "execution_count": 21,
   "metadata": {},
   "outputs": [
    {
     "data": {
      "text/plain": [
       "(4323, 1)"
      ]
     },
     "execution_count": 21,
     "metadata": {},
     "output_type": "execute_result"
    }
   ],
   "source": [
    "Y.shape"
   ]
  },
  {
   "cell_type": "code",
   "execution_count": 22,
   "metadata": {},
   "outputs": [
    {
     "data": {
      "text/plain": [
       "(4323, 50, 50, 3)"
      ]
     },
     "execution_count": 22,
     "metadata": {},
     "output_type": "execute_result"
    }
   ],
   "source": [
    "img_flowers.shape"
   ]
  },
  {
   "cell_type": "code",
   "execution_count": 23,
   "metadata": {},
   "outputs": [],
   "source": [
    "dataAndLabel = []"
   ]
  },
  {
   "cell_type": "code",
   "execution_count": 24,
   "metadata": {},
   "outputs": [
    {
     "name": "stderr",
     "output_type": "stream",
     "text": [
      "100%|██████████████████████████████████████████████████████████████████████████| 4323/4323 [00:00<00:00, 281561.17it/s]\n"
     ]
    }
   ],
   "source": [
    "for i in tqdm(range(Y.shape[0])):\n",
    "    dataAndLabel.append([img_flowers[i],Y[i,0]])"
   ]
  },
  {
   "cell_type": "code",
   "execution_count": 25,
   "metadata": {},
   "outputs": [],
   "source": [
    "dataAndLabel = np.array(dataAndLabel)"
   ]
  },
  {
   "cell_type": "code",
   "execution_count": 26,
   "metadata": {},
   "outputs": [
    {
     "name": "stdout",
     "output_type": "stream",
     "text": [
      "<class 'numpy.ndarray'>\n",
      "(2,)\n"
     ]
    }
   ],
   "source": [
    "print(type(dataAndLabel[0]))\n",
    "print(dataAndLabel[0].shape)"
   ]
  },
  {
   "cell_type": "code",
   "execution_count": 27,
   "metadata": {},
   "outputs": [],
   "source": [
    "np.random.seed(110)\n",
    "np.random.shuffle(dataAndLabel)"
   ]
  },
  {
   "cell_type": "code",
   "execution_count": 28,
   "metadata": {},
   "outputs": [
    {
     "name": "stdout",
     "output_type": "stream",
     "text": [
      "4\n"
     ]
    },
    {
     "data": {
      "image/png": "[encoded data removed]",
      "text/plain": [
       "<Figure size 432x288 with 1 Axes>"
      ]
     },
     "metadata": {
      "needs_background": "light"
     },
     "output_type": "display_data"
    }
   ],
   "source": [
    "plt.imshow(dataAndLabel[0][0])\n",
    "print(dataAndLabel[0][1])\n",
    "plt.show()"
   ]
  },
  {
   "cell_type": "code",
   "execution_count": 29,
   "metadata": {},
   "outputs": [
    {
     "data": {
      "text/plain": [
       "numpy.int32"
      ]
     },
     "execution_count": 29,
     "metadata": {},
     "output_type": "execute_result"
    }
   ],
   "source": [
    "type(dataAndLabel[0][1])"
   ]
  },
  {
   "cell_type": "code",
   "execution_count": null,
   "metadata": {},
   "outputs": [],
   "source": []
  },
  {
   "cell_type": "code",
   "execution_count": 30,
   "metadata": {},
   "outputs": [
    {
     "name": "stderr",
     "output_type": "stream",
     "text": [
      "100%|██████████████████████████████████████████████████████████████████████████| 4323/4323 [00:00<00:00, 277226.15it/s]\n"
     ]
    }
   ],
   "source": [
    "X_data = []\n",
    "Y_data = []\n",
    "for i in tqdm(range(Y.shape[0])):\n",
    "    X_data.append(dataAndLabel[i][0])\n",
    "    Y_data.append(dataAndLabel[i][1])"
   ]
  },
  {
   "cell_type": "code",
   "execution_count": 31,
   "metadata": {},
   "outputs": [],
   "source": [
    "X_data = np.array(X_data)\n",
    "Y_data = np.array(Y_data)\n",
    "Y_data = np.reshape(Y_data,(Y_data.shape[0],1))\n",
    "Y_data = to_categorical(Y_data)"
   ]
  },
  {
   "cell_type": "code",
   "execution_count": 32,
   "metadata": {},
   "outputs": [
    {
     "name": "stdout",
     "output_type": "stream",
     "text": [
      "(4323, 50, 50, 3) \t <class 'numpy.ndarray'>\n",
      "(4323, 5) \t <class 'numpy.ndarray'>\n"
     ]
    }
   ],
   "source": [
    "print(X_data.shape,'\\t',type(X_data))\n",
    "print(Y_data.shape,'\\t',type(Y_data))"
   ]
  },
  {
   "cell_type": "code",
   "execution_count": 33,
   "metadata": {},
   "outputs": [],
   "source": [
    "Xtrain,Xtest,Ytrain,Ytest = train_test_split(X_data,Y_data,test_size=0.20,random_state=42)"
   ]
  },
  {
   "cell_type": "code",
   "execution_count": 34,
   "metadata": {},
   "outputs": [
    {
     "data": {
      "text/plain": [
       "(3458, 50, 50, 3)"
      ]
     },
     "execution_count": 34,
     "metadata": {},
     "output_type": "execute_result"
    }
   ],
   "source": [
    "Xtrain.shape"
   ]
  },
  {
   "cell_type": "code",
   "execution_count": 35,
   "metadata": {},
   "outputs": [
    {
     "name": "stdout",
     "output_type": "stream",
     "text": [
      "[0. 1. 0. 0. 0.]\n"
     ]
    },
    {
     "data": {
      "image/png": "[encoded data removed]",
      "text/plain": [
       "<Figure size 432x288 with 1 Axes>"
      ]
     },
     "metadata": {
      "needs_background": "light"
     },
     "output_type": "display_data"
    }
   ],
   "source": [
    "plt.imshow(Xtrain[100])\n",
    "print(Ytrain[100])"
   ]
  },
  {
   "cell_type": "code",
   "execution_count": 36,
   "metadata": {},
   "outputs": [
    {
     "name": "stderr",
     "output_type": "stream",
     "text": [
      "WARNING: Logging before flag parsing goes to stderr.\n",
      "W1216 19:40:19.954040  7320 deprecation_wrapper.py:119] From g:\\anaconda3\\envs\\tf_gpu\\lib\\site-packages\\keras\\backend\\tensorflow_backend.py:4070: The name tf.nn.max_pool is deprecated. Please use tf.nn.max_pool2d instead.\n",
      "\n"
     ]
    }
   ],
   "source": [
    "'''model definition'''\n",
    "model = Sequential()\n",
    "model.add(Conv2D(16, kernel_size=3, activation='relu', input_shape=(pixel,pixel,3), padding='same'))\n",
    "model.add(MaxPooling2D(pool_size=(2,2)))\n",
    "model.add(Conv2D(32, kernel_size=3, activation='relu',padding='same'))\n",
    "model.add(MaxPooling2D(pool_size=(2,2)))\n",
    "model.add(Conv2D(64, kernel_size=3, activation='relu',padding='same'))\n",
    "model.add(MaxPooling2D(pool_size=(2,2)))\n",
    "model.add(Conv2D(32, kernel_size=3, activation='relu',padding='same'))\n",
    "model.add(MaxPooling2D(pool_size=(2,2)))\n",
    "model.add(Flatten())\n",
    "#model.add(Dense(256,activation='sigmoid'))\n",
    "#model.add(Dropout(0.2))\n",
    "#model.add(Dense(10,activation='relu'))\n",
    "#model.add(Dropout(0.2))\n",
    "model.add(Dense(5, activation='softmax'))"
   ]
  },
  {
   "cell_type": "code",
   "execution_count": 37,
   "metadata": {},
   "outputs": [],
   "source": [
    "sgd = optimizers.SGD(lr=0.1, decay=1e-6, momentum=0.9, nesterov=True)\n",
    "adam = optimizers.Adam(learning_rate=1)\n",
    "rmsprop = optimizers.RMSprop(learning_rate=1)\n",
    "adagrad = optimizers.Adagrad(learning_rate=1)"
   ]
  },
  {
   "cell_type": "code",
   "execution_count": 38,
   "metadata": {},
   "outputs": [],
   "source": [
    "model.compile(optimizer='Adam', loss = 'categorical_crossentropy', metrics=['accuracy']) #huber_loss, squared_hinge, categorical_crossentropy"
   ]
  },
  {
   "cell_type": "code",
   "execution_count": 39,
   "metadata": {},
   "outputs": [
    {
     "name": "stderr",
     "output_type": "stream",
     "text": [
      "W1216 19:40:24.704756  7320 deprecation_wrapper.py:119] From g:\\anaconda3\\envs\\tf_gpu\\lib\\site-packages\\keras\\backend\\tensorflow_backend.py:422: The name tf.global_variables is deprecated. Please use tf.compat.v1.global_variables instead.\n",
      "\n"
     ]
    },
    {
     "name": "stdout",
     "output_type": "stream",
     "text": [
      "Train on 2939 samples, validate on 519 samples\n",
      "Epoch 1/70\n",
      " - 6s - loss: 1.5982 - accuracy: 0.2412 - val_loss: 1.5738 - val_accuracy: 0.2216\n",
      "Epoch 2/70\n",
      " - 2s - loss: 1.5284 - accuracy: 0.2773 - val_loss: 1.4632 - val_accuracy: 0.3931\n",
      "Epoch 3/70\n",
      " - 2s - loss: 1.3862 - accuracy: 0.4246 - val_loss: 1.3145 - val_accuracy: 0.4316\n",
      "Epoch 4/70\n",
      " - 2s - loss: 1.2560 - accuracy: 0.4600 - val_loss: 1.2315 - val_accuracy: 0.4798\n",
      "Epoch 5/70\n",
      " - 2s - loss: 1.1952 - accuracy: 0.4889 - val_loss: 1.2074 - val_accuracy: 0.4875\n",
      "Epoch 6/70\n",
      " - 2s - loss: 1.1572 - accuracy: 0.5219 - val_loss: 1.2031 - val_accuracy: 0.5202\n",
      "Epoch 7/70\n",
      " - 2s - loss: 1.1209 - accuracy: 0.5407 - val_loss: 1.1579 - val_accuracy: 0.5299\n",
      "Epoch 8/70\n",
      " - 2s - loss: 1.0856 - accuracy: 0.5590 - val_loss: 1.1392 - val_accuracy: 0.5607\n",
      "Epoch 9/70\n",
      " - 2s - loss: 1.0766 - accuracy: 0.5577 - val_loss: 1.1874 - val_accuracy: 0.5376\n",
      "Epoch 10/70\n",
      " - 2s - loss: 1.0838 - accuracy: 0.5580 - val_loss: 1.1617 - val_accuracy: 0.5260\n",
      "Epoch 11/70\n",
      " - 2s - loss: 1.0519 - accuracy: 0.5750 - val_loss: 1.1176 - val_accuracy: 0.5491\n",
      "Epoch 12/70\n",
      " - 2s - loss: 1.0318 - accuracy: 0.5856 - val_loss: 1.1049 - val_accuracy: 0.5838\n",
      "Epoch 13/70\n",
      " - 2s - loss: 1.0205 - accuracy: 0.5859 - val_loss: 1.1034 - val_accuracy: 0.5491\n",
      "Epoch 14/70\n",
      " - 2s - loss: 0.9950 - accuracy: 0.6125 - val_loss: 1.0831 - val_accuracy: 0.5819\n",
      "Epoch 15/70\n",
      " - 2s - loss: 0.9769 - accuracy: 0.6148 - val_loss: 1.0761 - val_accuracy: 0.5934\n",
      "Epoch 16/70\n",
      " - 2s - loss: 0.9691 - accuracy: 0.6073 - val_loss: 1.0678 - val_accuracy: 0.5780\n",
      "Epoch 17/70\n",
      " - 2s - loss: 0.9517 - accuracy: 0.6359 - val_loss: 1.0883 - val_accuracy: 0.5723\n",
      "Epoch 18/70\n",
      " - 2s - loss: 0.9656 - accuracy: 0.6108 - val_loss: 1.0690 - val_accuracy: 0.5857\n",
      "Epoch 19/70\n",
      " - 2s - loss: 0.9477 - accuracy: 0.6329 - val_loss: 1.0751 - val_accuracy: 0.5780\n",
      "Epoch 20/70\n",
      " - 2s - loss: 0.9380 - accuracy: 0.6281 - val_loss: 1.0716 - val_accuracy: 0.5800\n",
      "Epoch 21/70\n",
      " - 2s - loss: 0.9289 - accuracy: 0.6291 - val_loss: 1.0494 - val_accuracy: 0.5992\n",
      "Epoch 22/70\n",
      " - 2s - loss: 0.9180 - accuracy: 0.6414 - val_loss: 1.0500 - val_accuracy: 0.5954\n",
      "Epoch 23/70\n",
      " - 2s - loss: 0.9008 - accuracy: 0.6492 - val_loss: 1.0202 - val_accuracy: 0.6146\n",
      "Epoch 24/70\n",
      " - 2s - loss: 0.8833 - accuracy: 0.6536 - val_loss: 1.0457 - val_accuracy: 0.6012\n",
      "Epoch 25/70\n",
      " - 2s - loss: 0.8823 - accuracy: 0.6563 - val_loss: 1.0096 - val_accuracy: 0.6069\n",
      "Epoch 26/70\n",
      " - 2s - loss: 0.8683 - accuracy: 0.6584 - val_loss: 1.0534 - val_accuracy: 0.5838\n",
      "Epoch 27/70\n",
      " - 2s - loss: 0.8888 - accuracy: 0.6475 - val_loss: 1.0191 - val_accuracy: 0.6224\n",
      "Epoch 28/70\n",
      " - 2s - loss: 0.8821 - accuracy: 0.6574 - val_loss: 1.0274 - val_accuracy: 0.5954\n",
      "Epoch 29/70\n",
      " - 2s - loss: 0.8706 - accuracy: 0.6652 - val_loss: 1.0068 - val_accuracy: 0.6204\n",
      "Epoch 30/70\n",
      " - 2s - loss: 0.8628 - accuracy: 0.6611 - val_loss: 1.0369 - val_accuracy: 0.6012\n",
      "Epoch 31/70\n",
      " - 2s - loss: 0.8651 - accuracy: 0.6614 - val_loss: 1.0231 - val_accuracy: 0.5934\n",
      "Epoch 32/70\n",
      " - 2s - loss: 0.8511 - accuracy: 0.6632 - val_loss: 1.0481 - val_accuracy: 0.5954\n",
      "Epoch 33/70\n",
      " - 2s - loss: 0.8573 - accuracy: 0.6604 - val_loss: 0.9935 - val_accuracy: 0.6204\n",
      "Epoch 34/70\n",
      " - 2s - loss: 0.8514 - accuracy: 0.6679 - val_loss: 1.0279 - val_accuracy: 0.5934\n",
      "Epoch 35/70\n",
      " - 2s - loss: 0.8478 - accuracy: 0.6730 - val_loss: 0.9805 - val_accuracy: 0.6031\n",
      "Epoch 36/70\n",
      " - 2s - loss: 0.8217 - accuracy: 0.6768 - val_loss: 1.0447 - val_accuracy: 0.5954\n",
      "Epoch 37/70\n",
      " - 2s - loss: 0.8251 - accuracy: 0.6778 - val_loss: 0.9722 - val_accuracy: 0.6146\n",
      "Epoch 38/70\n",
      " - 2s - loss: 0.8027 - accuracy: 0.6928 - val_loss: 0.9912 - val_accuracy: 0.6050\n",
      "Epoch 39/70\n",
      " - 2s - loss: 0.8107 - accuracy: 0.6839 - val_loss: 0.9861 - val_accuracy: 0.6146\n",
      "Epoch 40/70\n",
      " - 2s - loss: 0.7964 - accuracy: 0.6873 - val_loss: 0.9525 - val_accuracy: 0.6281\n",
      "Epoch 41/70\n",
      " - 2s - loss: 0.7826 - accuracy: 0.6948 - val_loss: 0.9567 - val_accuracy: 0.6262\n",
      "Epoch 42/70\n",
      " - 2s - loss: 0.7702 - accuracy: 0.7043 - val_loss: 0.9770 - val_accuracy: 0.6204\n",
      "Epoch 43/70\n",
      " - 2s - loss: 0.7753 - accuracy: 0.7019 - val_loss: 0.9865 - val_accuracy: 0.6069\n",
      "Epoch 44/70\n",
      " - 2s - loss: 0.7654 - accuracy: 0.7057 - val_loss: 0.9689 - val_accuracy: 0.6397\n",
      "Epoch 45/70\n",
      " - 2s - loss: 0.7569 - accuracy: 0.7135 - val_loss: 0.9347 - val_accuracy: 0.6474\n",
      "Epoch 46/70\n",
      " - 2s - loss: 0.7434 - accuracy: 0.7149 - val_loss: 0.9674 - val_accuracy: 0.6301\n",
      "Epoch 47/70\n",
      " - 2s - loss: 0.7443 - accuracy: 0.7152 - val_loss: 0.9716 - val_accuracy: 0.6358\n",
      "Epoch 48/70\n",
      " - 2s - loss: 0.7571 - accuracy: 0.7077 - val_loss: 0.9664 - val_accuracy: 0.6339\n",
      "Epoch 49/70\n",
      " - 2s - loss: 0.7521 - accuracy: 0.7217 - val_loss: 1.0003 - val_accuracy: 0.6146\n",
      "Epoch 50/70\n",
      " - 2s - loss: 0.7748 - accuracy: 0.7121 - val_loss: 0.9824 - val_accuracy: 0.6127\n",
      "Epoch 51/70\n",
      " - 2s - loss: 0.7763 - accuracy: 0.7084 - val_loss: 1.0162 - val_accuracy: 0.6281\n",
      "Epoch 52/70\n",
      " - 2s - loss: 0.7570 - accuracy: 0.7145 - val_loss: 0.9550 - val_accuracy: 0.6513\n",
      "Epoch 53/70\n",
      " - 2s - loss: 0.7163 - accuracy: 0.7387 - val_loss: 0.9250 - val_accuracy: 0.6686\n",
      "Epoch 54/70\n",
      " - 2s - loss: 0.7018 - accuracy: 0.7411 - val_loss: 0.9064 - val_accuracy: 0.6474\n",
      "Epoch 55/70\n",
      " - 2s - loss: 0.6965 - accuracy: 0.7411 - val_loss: 0.9036 - val_accuracy: 0.6532\n",
      "Epoch 56/70\n",
      " - 2s - loss: 0.6941 - accuracy: 0.7441 - val_loss: 0.9028 - val_accuracy: 0.6667\n",
      "Epoch 57/70\n",
      " - 2s - loss: 0.6912 - accuracy: 0.7441 - val_loss: 0.8964 - val_accuracy: 0.6628\n",
      "Epoch 58/70\n",
      " - 2s - loss: 0.6726 - accuracy: 0.7438 - val_loss: 0.9094 - val_accuracy: 0.6590\n",
      "Epoch 59/70\n",
      " - 2s - loss: 0.6717 - accuracy: 0.7489 - val_loss: 0.8803 - val_accuracy: 0.6609\n",
      "Epoch 60/70\n",
      " - 2s - loss: 0.6775 - accuracy: 0.7472 - val_loss: 0.9207 - val_accuracy: 0.6532\n",
      "Epoch 61/70\n",
      " - 2s - loss: 0.6671 - accuracy: 0.7465 - val_loss: 0.8858 - val_accuracy: 0.6551\n",
      "Epoch 62/70\n",
      " - 2s - loss: 0.6617 - accuracy: 0.7581 - val_loss: 0.8720 - val_accuracy: 0.6609\n",
      "Epoch 63/70\n",
      " - 2s - loss: 0.6670 - accuracy: 0.7557 - val_loss: 0.9045 - val_accuracy: 0.6628\n",
      "Epoch 64/70\n",
      " - 2s - loss: 0.6497 - accuracy: 0.7622 - val_loss: 0.9248 - val_accuracy: 0.6262\n",
      "Epoch 65/70\n",
      " - 2s - loss: 0.6565 - accuracy: 0.7635 - val_loss: 0.8831 - val_accuracy: 0.6667\n",
      "Epoch 66/70\n",
      " - 2s - loss: 0.6431 - accuracy: 0.7669 - val_loss: 0.8783 - val_accuracy: 0.6435\n",
      "Epoch 67/70\n",
      " - 2s - loss: 0.6355 - accuracy: 0.7696 - val_loss: 0.8703 - val_accuracy: 0.6513\n",
      "Epoch 68/70\n",
      " - 2s - loss: 0.6392 - accuracy: 0.7608 - val_loss: 0.9030 - val_accuracy: 0.6686\n",
      "Epoch 69/70\n",
      " - 2s - loss: 0.6368 - accuracy: 0.7642 - val_loss: 0.8705 - val_accuracy: 0.6513\n",
      "Epoch 70/70\n",
      " - 2s - loss: 0.6207 - accuracy: 0.7737 - val_loss: 0.9083 - val_accuracy: 0.6551\n"
     ]
    }
   ],
   "source": [
    "history = model.fit(Xtrain, Ytrain,validation_split=0.15,batch_size =512, epochs=70,verbose=2)"
   ]
  },
  {
   "cell_type": "code",
   "execution_count": 40,
   "metadata": {},
   "outputs": [
    {
     "name": "stdout",
     "output_type": "stream",
     "text": [
      "865/865 [==============================] - ETA:  - ETA:  - ETA:  - ETA:  - ETA:  - ETA:  - ETA:  - ETA:  - ETA:  - ETA:  - ETA:  - ETA:  - ETA:  - 1s 2ms/step\n"
     ]
    },
    {
     "data": {
      "text/plain": [
       "[0.8404893192941743, 0.6786127090454102]"
      ]
     },
     "execution_count": 40,
     "metadata": {},
     "output_type": "execute_result"
    }
   ],
   "source": [
    "model.evaluate(Xtest,Ytest)"
   ]
  },
  {
   "cell_type": "code",
   "execution_count": 41,
   "metadata": {},
   "outputs": [
    {
     "data": {
      "text/plain": [
       "<matplotlib.legend.Legend at 0x27ac2d6d408>"
      ]
     },
     "execution_count": 41,
     "metadata": {},
     "output_type": "execute_result"
    },
    {
     "data": {
      "image/png": "[encoded data removed]",
      "text/plain": [
       "<Figure size 432x288 with 1 Axes>"
      ]
     },
     "metadata": {
      "needs_background": "light"
     },
     "output_type": "display_data"
    }
   ],
   "source": [
    "plt.plot(history.history['accuracy'])\n",
    "plt.plot(history.history['val_accuracy'])\n",
    "plt.plot(history.history['loss'])\n",
    "plt.plot(history.history['val_loss'])\n",
    "plt.xlabel('Epoch')\n",
    "plt.ylabel('Value')\n",
    "plt.legend(['train_acc','val_acc','train_loss','val_loss'])"
   ]
  },
  {
   "cell_type": "code",
   "execution_count": 42,
   "metadata": {},
   "outputs": [
    {
     "name": "stdout",
     "output_type": "stream",
     "text": [
      "Model: \"sequential_1\"\n",
      "_________________________________________________________________\n",
      "Layer (type)                 Output Shape              Param #   \n",
      "=================================================================\n",
      "conv2d_1 (Conv2D)            (None, 50, 50, 16)        448       \n",
      "_________________________________________________________________\n",
      "max_pooling2d_1 (MaxPooling2 (None, 25, 25, 16)        0         \n",
      "_________________________________________________________________\n",
      "conv2d_2 (Conv2D)            (None, 25, 25, 32)        4640      \n",
      "_________________________________________________________________\n",
      "max_pooling2d_2 (MaxPooling2 (None, 12, 12, 32)        0         \n",
      "_________________________________________________________________\n",
      "conv2d_3 (Conv2D)            (None, 12, 12, 64)        18496     \n",
      "_________________________________________________________________\n",
      "max_pooling2d_3 (MaxPooling2 (None, 6, 6, 64)          0         \n",
      "_________________________________________________________________\n",
      "conv2d_4 (Conv2D)            (None, 6, 6, 32)          18464     \n",
      "_________________________________________________________________\n",
      "max_pooling2d_4 (MaxPooling2 (None, 3, 3, 32)          0         \n",
      "_________________________________________________________________\n",
      "flatten_1 (Flatten)          (None, 288)               0         \n",
      "_________________________________________________________________\n",
      "dense_1 (Dense)              (None, 5)                 1445      \n",
      "=================================================================\n",
      "Total params: 43,493\n",
      "Trainable params: 43,493\n",
      "Non-trainable params: 0\n",
      "_________________________________________________________________\n"
     ]
    }
   ],
   "source": [
    "model.summary()"
   ]
  },
  {
   "cell_type": "code",
   "execution_count": 43,
   "metadata": {},
   "outputs": [],
   "source": [
    "model.save('FlowerClassification-66.24.h5')"
   ]
  },
  {
   "cell_type": "code",
   "execution_count": 53,
   "metadata": {},
   "outputs": [
    {
     "name": "stdout",
     "output_type": "stream",
     "text": [
      "Predicted flower -  rose\n"
     ]
    }
   ],
   "source": [
    "#To load the model, remove the ''' ''' below\n",
    "'''\n",
    "from keras.models import load_model\n",
    "\n",
    "new_model = load_model('FlowerClassification-73.30.h5')\n",
    "target = ['daisy','dandelion','rose','sunflower','tulip']\n",
    "\n",
    "pic = cv2.imread('Rose_test.jpg')\n",
    "pic = cv2.cvtColor(pic,cv2.COLOR_BGR2RGB)\n",
    "pic = resizer(pic)\n",
    "\n",
    "pr = new_model.predict_classes(pic.reshape((1, 50, 50, 3)))\n",
    "print('Predicted flower - ',target[pr[0]])'''"
   ]
  }
 ],
 "metadata": {
  "kernelspec": {
   "display_name": "Python 3",
   "language": "python",
   "name": "python3"
  },
  "language_info": {
   "codemirror_mode": {
    "name": "ipython",
    "version": 3
   },
   "file_extension": ".py",
   "mimetype": "text/x-python",
   "name": "python",
   "nbconvert_exporter": "python",
   "pygments_lexer": "ipython3",
   "version": "3.7.4"
  }
 },
 "nbformat": 4,
 "nbformat_minor": 2
}
