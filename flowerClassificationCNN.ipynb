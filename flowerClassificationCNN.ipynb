{
 "cells": [
  {
   "cell_type": "code",
   "execution_count": 1,
   "metadata": {},
   "outputs": [],
   "source": [
    "import numpy as np\n",
    "import pandas as pd\n",
    "import matplotlib.pyplot as plt\n",
    "import os\n",
    "import tensorflow as tf\n",
    "from tensorflow import keras\n",
    "from sklearn.model_selection import train_test_split\n",
    "from sklearn.metrics import classification_report,confusion_matrix\n",
    "import cv2\n",
    "from tqdm import tqdm\n",
    "%matplotlib inline"
   ]
  },
  {
   "cell_type": "code",
   "execution_count": 2,
   "metadata": {},
   "outputs": [
    {
     "name": "stderr",
     "output_type": "stream",
     "text": [
      "Using TensorFlow backend.\n"
     ]
    }
   ],
   "source": [
    "from keras.models import Sequential\n",
    "from keras.layers import Dense, Conv1D, Flatten, MaxPooling2D, Conv2D, MaxPool1D, Dropout\n",
    "from keras import optimizers\n",
    "from keras.utils import to_categorical"
   ]
  },
  {
   "cell_type": "code",
   "execution_count": 3,
   "metadata": {},
   "outputs": [],
   "source": [
    "path_daisy = 'daisy/'\n",
    "path_dandelion = 'dandelion/'\n",
    "path_rose = 'rose/'\n",
    "path_sunflower = 'sunflower/'\n",
    "path_tulip = 'tulip/'"
   ]
  },
  {
   "cell_type": "code",
   "execution_count": 4,
   "metadata": {},
   "outputs": [],
   "source": [
    "daisy = os.listdir(path_daisy)\n",
    "dandelion = os.listdir(path_dandelion)\n",
    "rose = os.listdir(path_rose)\n",
    "sunflower = os.listdir(path_sunflower)\n",
    "tulip = os.listdir(path_tulip)"
   ]
  },
  {
   "cell_type": "code",
   "execution_count": 5,
   "metadata": {},
   "outputs": [
    {
     "name": "stdout",
     "output_type": "stream",
     "text": [
      "No. of samples:\n",
      "daisy =\t 675 \n",
      "dandelion =\t 915 \n",
      "rose =\t 707 \n",
      "sunflower =\t 663 \n",
      "tulip =\t 802\n"
     ]
    }
   ],
   "source": [
    "print('No. of samples:\\ndaisy =\\t',len(daisy),'\\ndandelion =\\t',len(dandelion),'\\nrose =\\t',len(rose),'\\nsunflower =\\t',len(sunflower),'\\ntulip =\\t',len(tulip))"
   ]
  },
  {
   "cell_type": "code",
   "execution_count": 6,
   "metadata": {},
   "outputs": [],
   "source": [
    "totalSamples = len(dandelion)+len(daisy)+len(rose)+len(sunflower)+len(tulip)"
   ]
  },
  {
   "cell_type": "code",
   "execution_count": 7,
   "metadata": {},
   "outputs": [
    {
     "name": "stdout",
     "output_type": "stream",
     "text": [
      "3762\n"
     ]
    }
   ],
   "source": [
    "print(totalSamples)"
   ]
  },
  {
   "cell_type": "code",
   "execution_count": 8,
   "metadata": {},
   "outputs": [],
   "source": [
    "target = ['daisy','dandelion','rose','sunflower','tulip']"
   ]
  },
  {
   "cell_type": "code",
   "execution_count": 9,
   "metadata": {},
   "outputs": [],
   "source": [
    "y_daisy = [0]*len(daisy)\n",
    "y_dandelion = [1]*len(dandelion)\n",
    "y_rose = [2]*len(rose)\n",
    "y_sunflower = [3]*len(sunflower)\n",
    "y_tulip = [4]*len(tulip)"
   ]
  },
  {
   "cell_type": "code",
   "execution_count": 10,
   "metadata": {},
   "outputs": [],
   "source": [
    "pixel = 50;"
   ]
  },
  {
   "cell_type": "code",
   "execution_count": 11,
   "metadata": {},
   "outputs": [],
   "source": [
    "def resizer(pic):\n",
    "    pic = cv2.resize(pic,(pixel,pixel))\n",
    "    #pic = pic.reshape(1,pic.shape[0]*pic.shape[1]*pic.shape[2])\n",
    "    pic = pic/255\n",
    "    return pic"
   ]
  },
  {
   "cell_type": "code",
   "execution_count": 12,
   "metadata": {},
   "outputs": [
    {
     "data": {
      "text/plain": [
       "'img_dandelion = np.zeros((len(dandelion),1))\\nimg_rose = np.zeros((len(rose),1))\\nimg_sunflower = np.zeros((len(sunflower),1))\\nimg_tulip = np.zeros((len(tulip),1))\\n'"
      ]
     },
     "execution_count": 12,
     "metadata": {},
     "output_type": "execute_result"
    }
   ],
   "source": [
    "#img_daisy = np.zeros((len(daisy),1))\n",
    "img_flowers = []\n",
    "'''img_dandelion = np.zeros((len(dandelion),1))\n",
    "img_rose = np.zeros((len(rose),1))\n",
    "img_sunflower = np.zeros((len(sunflower),1))\n",
    "img_tulip = np.zeros((len(tulip),1))\n",
    "'''"
   ]
  },
  {
   "cell_type": "code",
   "execution_count": 13,
   "metadata": {},
   "outputs": [
    {
     "name": "stderr",
     "output_type": "stream",
     "text": [
      "100%|███████████████████████████████████████████████████████████████████████████████| 675/675 [00:01<00:00, 337.67it/s]\n"
     ]
    }
   ],
   "source": [
    "i = 0\n",
    "for i in tqdm(range(len(daisy))):\n",
    "    pic = cv2.imread(path_daisy+daisy[i])\n",
    "    pic = cv2.cvtColor(pic,cv2.COLOR_BGR2RGB)\n",
    "    pic = resizer(pic)\n",
    "    img_flowers.append(pic)"
   ]
  },
  {
   "cell_type": "code",
   "execution_count": 14,
   "metadata": {},
   "outputs": [
    {
     "name": "stderr",
     "output_type": "stream",
     "text": [
      "100%|███████████████████████████████████████████████████████████████████████████████| 915/915 [00:03<00:00, 297.33it/s]\n"
     ]
    }
   ],
   "source": [
    "i = 0\n",
    "for i in tqdm(range(len(dandelion))):\n",
    "    pic = cv2.imread(path_dandelion+dandelion[i])\n",
    "    pic = cv2.cvtColor(pic,cv2.COLOR_BGR2RGB)\n",
    "    pic = resizer(pic)\n",
    "    img_flowers.append(pic)"
   ]
  },
  {
   "cell_type": "code",
   "execution_count": 15,
   "metadata": {},
   "outputs": [
    {
     "name": "stderr",
     "output_type": "stream",
     "text": [
      "100%|███████████████████████████████████████████████████████████████████████████████| 707/707 [00:02<00:00, 345.49it/s]\n"
     ]
    }
   ],
   "source": [
    "i = 0\n",
    "for i in tqdm(range(len(rose))):\n",
    "    pic = cv2.imread(path_rose+rose[i])\n",
    "    pic = cv2.cvtColor(pic,cv2.COLOR_BGR2RGB)\n",
    "    pic = resizer(pic)\n",
    "    img_flowers.append(pic)"
   ]
  },
  {
   "cell_type": "code",
   "execution_count": 16,
   "metadata": {},
   "outputs": [
    {
     "name": "stderr",
     "output_type": "stream",
     "text": [
      "100%|███████████████████████████████████████████████████████████████████████████████| 663/663 [00:02<00:00, 298.45it/s]\n"
     ]
    }
   ],
   "source": [
    "i = 0\n",
    "for i in tqdm(range(len(sunflower))):\n",
    "    pic = cv2.imread(path_sunflower+sunflower[i])\n",
    "    pic = cv2.cvtColor(pic,cv2.COLOR_BGR2RGB)\n",
    "    pic = resizer(pic)\n",
    "    img_flowers.append(pic)"
   ]
  },
  {
   "cell_type": "code",
   "execution_count": 17,
   "metadata": {},
   "outputs": [
    {
     "name": "stderr",
     "output_type": "stream",
     "text": [
      "100%|███████████████████████████████████████████████████████████████████████████████| 802/802 [00:02<00:00, 356.53it/s]\n"
     ]
    }
   ],
   "source": [
    "i = 0\n",
    "for i in tqdm(range(len(tulip))):\n",
    "    pic = cv2.imread(path_tulip+tulip[i])\n",
    "    pic = cv2.cvtColor(pic,cv2.COLOR_BGR2RGB)\n",
    "    pic = resizer(pic)\n",
    "    img_flowers.append(pic)"
   ]
  },
  {
   "cell_type": "code",
   "execution_count": 18,
   "metadata": {},
   "outputs": [],
   "source": [
    "img_flowers = np.array(img_flowers)"
   ]
  },
  {
   "cell_type": "code",
   "execution_count": 19,
   "metadata": {},
   "outputs": [
    {
     "data": {
      "text/plain": [
       "(3762, 50, 50, 3)"
      ]
     },
     "execution_count": 19,
     "metadata": {},
     "output_type": "execute_result"
    }
   ],
   "source": [
    "img_flowers.shape"
   ]
  },
  {
   "cell_type": "code",
   "execution_count": 20,
   "metadata": {},
   "outputs": [],
   "source": [
    "Y = y_daisy+y_dandelion+y_rose+y_sunflower+y_tulip\n",
    "Y = np.array(Y)\n",
    "Y = np.reshape(Y,(Y.shape[0],1))"
   ]
  },
  {
   "cell_type": "code",
   "execution_count": 21,
   "metadata": {},
   "outputs": [
    {
     "data": {
      "text/plain": [
       "(3762, 1)"
      ]
     },
     "execution_count": 21,
     "metadata": {},
     "output_type": "execute_result"
    }
   ],
   "source": [
    "Y.shape"
   ]
  },
  {
   "cell_type": "code",
   "execution_count": 22,
   "metadata": {},
   "outputs": [
    {
     "data": {
      "text/plain": [
       "(3762, 50, 50, 3)"
      ]
     },
     "execution_count": 22,
     "metadata": {},
     "output_type": "execute_result"
    }
   ],
   "source": [
    "img_flowers.shape"
   ]
  },
  {
   "cell_type": "code",
   "execution_count": 23,
   "metadata": {},
   "outputs": [],
   "source": [
    "dataAndLabel = []"
   ]
  },
  {
   "cell_type": "code",
   "execution_count": 24,
   "metadata": {},
   "outputs": [
    {
     "name": "stderr",
     "output_type": "stream",
     "text": [
      "100%|██████████████████████████████████████████████████████████████████████████████████████| 3762/3762 [00:00<?, ?it/s]\n"
     ]
    }
   ],
   "source": [
    "for i in tqdm(range(Y.shape[0])):\n",
    "    dataAndLabel.append([img_flowers[i],Y[i,0]])"
   ]
  },
  {
   "cell_type": "code",
   "execution_count": 25,
   "metadata": {},
   "outputs": [],
   "source": [
    "dataAndLabel = np.array(dataAndLabel)"
   ]
  },
  {
   "cell_type": "code",
   "execution_count": 26,
   "metadata": {},
   "outputs": [
    {
     "name": "stdout",
     "output_type": "stream",
     "text": [
      "<class 'numpy.ndarray'>\n",
      "(2,)\n"
     ]
    }
   ],
   "source": [
    "print(type(dataAndLabel[0]))\n",
    "print(dataAndLabel[0].shape)"
   ]
  },
  {
   "cell_type": "code",
   "execution_count": 27,
   "metadata": {},
   "outputs": [],
   "source": [
    "np.random.seed(110)\n",
    "np.random.shuffle(dataAndLabel)"
   ]
  },
  {
   "cell_type": "code",
   "execution_count": 28,
   "metadata": {},
   "outputs": [
    {
     "name": "stdout",
     "output_type": "stream",
     "text": [
      "0\n"
     ]
    },
    {
     "data": {
      "image/png": "[encoded data removed]",
      "text/plain": [
       "<Figure size 432x288 with 1 Axes>"
      ]
     },
     "metadata": {
      "needs_background": "light"
     },
     "output_type": "display_data"
    }
   ],
   "source": [
    "plt.imshow(dataAndLabel[0][0])\n",
    "print(dataAndLabel[0][1])\n",
    "plt.show()"
   ]
  },
  {
   "cell_type": "code",
   "execution_count": 29,
   "metadata": {},
   "outputs": [
    {
     "data": {
      "text/plain": [
       "numpy.int32"
      ]
     },
     "execution_count": 29,
     "metadata": {},
     "output_type": "execute_result"
    }
   ],
   "source": [
    "type(dataAndLabel[0][1])"
   ]
  },
  {
   "cell_type": "code",
   "execution_count": 30,
   "metadata": {},
   "outputs": [
    {
     "name": "stderr",
     "output_type": "stream",
     "text": [
      "100%|██████████████████████████████████████████████████████████████████████████| 3762/3762 [00:00<00:00, 240790.04it/s]\n"
     ]
    }
   ],
   "source": [
    "X_data = []\n",
    "Y_data = []\n",
    "for i in tqdm(range(Y.shape[0])):\n",
    "    X_data.append(dataAndLabel[i][0])\n",
    "    Y_data.append(dataAndLabel[i][1])"
   ]
  },
  {
   "cell_type": "code",
   "execution_count": 31,
   "metadata": {},
   "outputs": [],
   "source": [
    "X_data = np.array(X_data)\n",
    "Y_data = np.array(Y_data)\n",
    "Y_data = np.reshape(Y_data,(Y_data.shape[0],1))\n",
    "Y_data = to_categorical(Y_data)"
   ]
  },
  {
   "cell_type": "code",
   "execution_count": 32,
   "metadata": {},
   "outputs": [
    {
     "name": "stdout",
     "output_type": "stream",
     "text": [
      "(3762, 50, 50, 3) \t <class 'numpy.ndarray'>\n",
      "(3762, 5) \t <class 'numpy.ndarray'>\n"
     ]
    }
   ],
   "source": [
    "print(X_data.shape,'\\t',type(X_data))\n",
    "print(Y_data.shape,'\\t',type(Y_data))"
   ]
  },
  {
   "cell_type": "code",
   "execution_count": 33,
   "metadata": {},
   "outputs": [],
   "source": [
    "Xtrain,Xtest,Ytrain,Ytest = train_test_split(X_data,Y_data,test_size=0.20,random_state=42)"
   ]
  },
  {
   "cell_type": "code",
   "execution_count": 34,
   "metadata": {},
   "outputs": [
    {
     "data": {
      "text/plain": [
       "(3009, 50, 50, 3)"
      ]
     },
     "execution_count": 34,
     "metadata": {},
     "output_type": "execute_result"
    }
   ],
   "source": [
    "Xtrain.shape"
   ]
  },
  {
   "cell_type": "code",
   "execution_count": 35,
   "metadata": {},
   "outputs": [
    {
     "name": "stdout",
     "output_type": "stream",
     "text": [
      "[0. 1. 0. 0. 0.]\n"
     ]
    },
    {
     "data": {
      "image/png": "[encoded data removed]",
      "text/plain": [
       "<Figure size 432x288 with 1 Axes>"
      ]
     },
     "metadata": {
      "needs_background": "light"
     },
     "output_type": "display_data"
    }
   ],
   "source": [
    "plt.imshow(Xtrain[100])\n",
    "print(Ytrain[100])"
   ]
  },
  {
   "cell_type": "code",
   "execution_count": 36,
   "metadata": {},
   "outputs": [
    {
     "name": "stderr",
     "output_type": "stream",
     "text": [
      "WARNING: Logging before flag parsing goes to stderr.\n",
      "W1218 02:00:57.111282 11612 deprecation_wrapper.py:119] From g:\\anaconda3\\envs\\tf_gpu\\lib\\site-packages\\keras\\backend\\tensorflow_backend.py:4070: The name tf.nn.max_pool is deprecated. Please use tf.nn.max_pool2d instead.\n",
      "\n"
     ]
    }
   ],
   "source": [
    "'''model definition'''\n",
    "model = Sequential()\n",
    "model.add(Conv2D(16, kernel_size=3, activation='relu', input_shape=(pixel,pixel,3),padding='same'))\n",
    "model.add(MaxPooling2D(pool_size=(2,2)))\n",
    "model.add(Conv2D(32, kernel_size=3, activation='relu',padding='same'))\n",
    "model.add(MaxPooling2D(pool_size=(2,2)))\n",
    "model.add(Conv2D(64, kernel_size=3, activation='relu',padding='same'))\n",
    "model.add(MaxPooling2D(pool_size=(2,2)))\n",
    "model.add(Conv2D(32, kernel_size=3, activation='relu',padding='same'))\n",
    "model.add(MaxPooling2D(pool_size=(2,2)))\n",
    "model.add(Flatten())\n",
    "#model.add(Dense(256,activation='sigmoid'))\n",
    "#model.add(Dropout(0.2))\n",
    "#model.add(Dense(10,activation='relu'))\n",
    "#model.add(Dropout(0.2))\n",
    "model.add(Dense(5, activation='softmax'))"
   ]
  },
  {
   "cell_type": "code",
   "execution_count": 37,
   "metadata": {},
   "outputs": [],
   "source": [
    "sgd = optimizers.SGD(lr=0.1, decay=1e-6, momentum=0.9, nesterov=True)\n",
    "adam = optimizers.Adam(learning_rate=1)\n",
    "rmsprop = optimizers.RMSprop(learning_rate=1)\n",
    "adagrad = optimizers.Adagrad(learning_rate=1)"
   ]
  },
  {
   "cell_type": "code",
   "execution_count": 38,
   "metadata": {},
   "outputs": [],
   "source": [
    "model.compile(optimizer='Adam', loss = 'categorical_crossentropy', metrics=['accuracy']) #huber_loss, squared_hinge, categorical_crossentropy"
   ]
  },
  {
   "cell_type": "code",
   "execution_count": 39,
   "metadata": {},
   "outputs": [
    {
     "name": "stderr",
     "output_type": "stream",
     "text": [
      "W1218 02:01:00.415912 11612 deprecation_wrapper.py:119] From g:\\anaconda3\\envs\\tf_gpu\\lib\\site-packages\\keras\\backend\\tensorflow_backend.py:422: The name tf.global_variables is deprecated. Please use tf.compat.v1.global_variables instead.\n",
      "\n"
     ]
    },
    {
     "name": "stdout",
     "output_type": "stream",
     "text": [
      "Train on 2557 samples, validate on 452 samples\n",
      "Epoch 1/100\n",
      " - 6s - loss: 1.5991 - accuracy: 0.2483 - val_loss: 1.5797 - val_accuracy: 0.3230\n",
      "Epoch 2/100\n",
      " - 2s - loss: 1.5545 - accuracy: 0.3246 - val_loss: 1.5136 - val_accuracy: 0.3827\n",
      "Epoch 3/100\n",
      " - 2s - loss: 1.4856 - accuracy: 0.4036 - val_loss: 1.4168 - val_accuracy: 0.3960\n",
      "Epoch 4/100\n",
      " - 1s - loss: 1.3982 - accuracy: 0.4259 - val_loss: 1.2997 - val_accuracy: 0.4314\n",
      "Epoch 5/100\n",
      " - 2s - loss: 1.3356 - accuracy: 0.4372 - val_loss: 1.2198 - val_accuracy: 0.4735\n",
      "Epoch 6/100\n",
      " - 2s - loss: 1.2467 - accuracy: 0.4787 - val_loss: 1.1428 - val_accuracy: 0.5155\n",
      "Epoch 7/100\n",
      " - 2s - loss: 1.1952 - accuracy: 0.5014 - val_loss: 1.1107 - val_accuracy: 0.5044\n",
      "Epoch 8/100\n",
      " - 2s - loss: 1.1585 - accuracy: 0.5072 - val_loss: 1.1318 - val_accuracy: 0.5199\n",
      "Epoch 9/100\n",
      " - 2s - loss: 1.1203 - accuracy: 0.5327 - val_loss: 1.0781 - val_accuracy: 0.5354\n",
      "Epoch 10/100\n",
      " - 2s - loss: 1.0872 - accuracy: 0.5549 - val_loss: 1.0394 - val_accuracy: 0.5642\n",
      "Epoch 11/100\n",
      " - 2s - loss: 1.0691 - accuracy: 0.5714 - val_loss: 1.0098 - val_accuracy: 0.5730\n",
      "Epoch 12/100\n",
      " - 1s - loss: 1.0332 - accuracy: 0.5874 - val_loss: 0.9813 - val_accuracy: 0.5774\n",
      "Epoch 13/100\n",
      " - 2s - loss: 1.0136 - accuracy: 0.5874 - val_loss: 0.9606 - val_accuracy: 0.6084\n",
      "Epoch 14/100\n",
      " - 1s - loss: 0.9912 - accuracy: 0.6019 - val_loss: 0.9982 - val_accuracy: 0.6018\n",
      "Epoch 15/100\n",
      " - 2s - loss: 0.9870 - accuracy: 0.6128 - val_loss: 0.9719 - val_accuracy: 0.6062\n",
      "Epoch 16/100\n",
      " - 2s - loss: 0.9812 - accuracy: 0.6109 - val_loss: 0.9874 - val_accuracy: 0.6084\n",
      "Epoch 17/100\n",
      " - 1s - loss: 0.9601 - accuracy: 0.6183 - val_loss: 0.9148 - val_accuracy: 0.6305\n",
      "Epoch 18/100\n",
      " - 2s - loss: 0.9327 - accuracy: 0.6418 - val_loss: 0.9025 - val_accuracy: 0.6327\n",
      "Epoch 19/100\n",
      " - 2s - loss: 0.9239 - accuracy: 0.6379 - val_loss: 0.9270 - val_accuracy: 0.6018\n",
      "Epoch 20/100\n",
      " - 2s - loss: 0.9298 - accuracy: 0.6343 - val_loss: 0.8986 - val_accuracy: 0.6084\n",
      "Epoch 21/100\n",
      " - 2s - loss: 0.9034 - accuracy: 0.6492 - val_loss: 0.9054 - val_accuracy: 0.6128\n",
      "Epoch 22/100\n",
      " - 2s - loss: 0.8853 - accuracy: 0.6598 - val_loss: 0.8506 - val_accuracy: 0.6881\n",
      "Epoch 23/100\n",
      " - 1s - loss: 0.8784 - accuracy: 0.6543 - val_loss: 0.8526 - val_accuracy: 0.6704\n",
      "Epoch 24/100\n",
      " - 2s - loss: 0.8572 - accuracy: 0.6727 - val_loss: 0.8503 - val_accuracy: 0.6748\n",
      "Epoch 25/100\n",
      " - 2s - loss: 0.8397 - accuracy: 0.6820 - val_loss: 0.8127 - val_accuracy: 0.6704\n",
      "Epoch 26/100\n",
      " - 2s - loss: 0.8238 - accuracy: 0.6910 - val_loss: 0.8143 - val_accuracy: 0.6836\n",
      "Epoch 27/100\n",
      " - 2s - loss: 0.8102 - accuracy: 0.6918 - val_loss: 0.8048 - val_accuracy: 0.6792\n",
      "Epoch 28/100\n",
      " - 2s - loss: 0.8074 - accuracy: 0.6922 - val_loss: 0.7943 - val_accuracy: 0.6748\n",
      "Epoch 29/100\n",
      " - 2s - loss: 0.7878 - accuracy: 0.7059 - val_loss: 0.7752 - val_accuracy: 0.6903\n",
      "Epoch 30/100\n",
      " - 2s - loss: 0.7797 - accuracy: 0.7024 - val_loss: 0.7733 - val_accuracy: 0.6881\n",
      "Epoch 31/100\n",
      " - 2s - loss: 0.7707 - accuracy: 0.7219 - val_loss: 0.8442 - val_accuracy: 0.6460\n",
      "Epoch 32/100\n",
      " - 2s - loss: 0.7854 - accuracy: 0.6996 - val_loss: 0.7936 - val_accuracy: 0.6659\n",
      "Epoch 33/100\n",
      " - 2s - loss: 0.7876 - accuracy: 0.6957 - val_loss: 0.7816 - val_accuracy: 0.6925\n",
      "Epoch 34/100\n",
      " - 2s - loss: 0.7673 - accuracy: 0.7145 - val_loss: 0.7504 - val_accuracy: 0.7124\n",
      "Epoch 35/100\n",
      " - 2s - loss: 0.7294 - accuracy: 0.7368 - val_loss: 0.7441 - val_accuracy: 0.7080\n",
      "Epoch 36/100\n",
      " - 2s - loss: 0.7097 - accuracy: 0.7415 - val_loss: 0.7554 - val_accuracy: 0.6969\n",
      "Epoch 37/100\n",
      " - 2s - loss: 0.7014 - accuracy: 0.7423 - val_loss: 0.7562 - val_accuracy: 0.7102\n",
      "Epoch 38/100\n",
      " - 2s - loss: 0.7032 - accuracy: 0.7395 - val_loss: 0.7506 - val_accuracy: 0.7102\n",
      "Epoch 39/100\n",
      " - 2s - loss: 0.6892 - accuracy: 0.7431 - val_loss: 0.7250 - val_accuracy: 0.7146\n",
      "Epoch 40/100\n",
      " - 2s - loss: 0.6732 - accuracy: 0.7536 - val_loss: 0.7164 - val_accuracy: 0.7058\n",
      "Epoch 41/100\n",
      " - 2s - loss: 0.6695 - accuracy: 0.7575 - val_loss: 0.7246 - val_accuracy: 0.7124\n",
      "Epoch 42/100\n",
      " - 2s - loss: 0.6839 - accuracy: 0.7501 - val_loss: 0.7056 - val_accuracy: 0.7367\n",
      "Epoch 43/100\n",
      " - 2s - loss: 0.6718 - accuracy: 0.7540 - val_loss: 0.7403 - val_accuracy: 0.7080\n",
      "Epoch 44/100\n",
      " - 2s - loss: 0.6571 - accuracy: 0.7575 - val_loss: 0.7675 - val_accuracy: 0.7013\n",
      "Epoch 45/100\n",
      " - 2s - loss: 0.6782 - accuracy: 0.7470 - val_loss: 0.7231 - val_accuracy: 0.7146\n",
      "Epoch 46/100\n",
      " - 2s - loss: 0.6482 - accuracy: 0.7650 - val_loss: 0.6980 - val_accuracy: 0.7190\n",
      "Epoch 47/100\n",
      " - 2s - loss: 0.6399 - accuracy: 0.7697 - val_loss: 0.7092 - val_accuracy: 0.7212\n",
      "Epoch 48/100\n",
      " - 2s - loss: 0.6206 - accuracy: 0.7740 - val_loss: 0.7066 - val_accuracy: 0.7367\n",
      "Epoch 49/100\n",
      " - 2s - loss: 0.6235 - accuracy: 0.7665 - val_loss: 0.7440 - val_accuracy: 0.7212\n",
      "Epoch 50/100\n",
      " - 2s - loss: 0.6092 - accuracy: 0.7740 - val_loss: 0.6809 - val_accuracy: 0.7412\n",
      "Epoch 51/100\n",
      " - 2s - loss: 0.6036 - accuracy: 0.7857 - val_loss: 0.6934 - val_accuracy: 0.7389\n",
      "Epoch 52/100\n",
      " - 2s - loss: 0.6217 - accuracy: 0.7767 - val_loss: 0.7658 - val_accuracy: 0.6836\n",
      "Epoch 53/100\n",
      " - 2s - loss: 0.6161 - accuracy: 0.7665 - val_loss: 0.7505 - val_accuracy: 0.7035\n",
      "Epoch 54/100\n",
      " - 2s - loss: 0.5899 - accuracy: 0.7908 - val_loss: 0.7088 - val_accuracy: 0.7146\n",
      "Epoch 55/100\n",
      " - 2s - loss: 0.6169 - accuracy: 0.7724 - val_loss: 0.7777 - val_accuracy: 0.7035\n",
      "Epoch 56/100\n",
      " - 1s - loss: 0.6013 - accuracy: 0.7896 - val_loss: 0.7251 - val_accuracy: 0.7080\n",
      "Epoch 57/100\n",
      " - 1s - loss: 0.5809 - accuracy: 0.7955 - val_loss: 0.7437 - val_accuracy: 0.7035\n",
      "Epoch 58/100\n",
      " - 2s - loss: 0.5647 - accuracy: 0.8041 - val_loss: 0.7059 - val_accuracy: 0.7367\n",
      "Epoch 59/100\n",
      " - 2s - loss: 0.5624 - accuracy: 0.7994 - val_loss: 0.6991 - val_accuracy: 0.7146\n",
      "Epoch 60/100\n",
      " - 2s - loss: 0.5741 - accuracy: 0.7931 - val_loss: 0.7223 - val_accuracy: 0.7124\n",
      "Epoch 61/100\n",
      " - 1s - loss: 0.5788 - accuracy: 0.7892 - val_loss: 0.7517 - val_accuracy: 0.7146\n",
      "Epoch 62/100\n",
      " - 2s - loss: 0.5780 - accuracy: 0.7908 - val_loss: 0.7458 - val_accuracy: 0.7080\n",
      "Epoch 63/100\n",
      " - 2s - loss: 0.5813 - accuracy: 0.7916 - val_loss: 0.6636 - val_accuracy: 0.7544\n",
      "Epoch 64/100\n",
      " - 2s - loss: 0.5420 - accuracy: 0.8013 - val_loss: 0.6708 - val_accuracy: 0.7588\n",
      "Epoch 65/100\n",
      " - 2s - loss: 0.5230 - accuracy: 0.8193 - val_loss: 0.6722 - val_accuracy: 0.7522\n",
      "Epoch 66/100\n",
      " - 2s - loss: 0.5146 - accuracy: 0.8295 - val_loss: 0.6554 - val_accuracy: 0.7611\n",
      "Epoch 67/100\n",
      " - 1s - loss: 0.5086 - accuracy: 0.8244 - val_loss: 0.6540 - val_accuracy: 0.7743\n",
      "Epoch 68/100\n",
      " - 2s - loss: 0.5107 - accuracy: 0.8228 - val_loss: 0.6600 - val_accuracy: 0.7456\n",
      "Epoch 69/100\n",
      " - 2s - loss: 0.5163 - accuracy: 0.8154 - val_loss: 0.6871 - val_accuracy: 0.7279\n",
      "Epoch 70/100\n",
      " - 2s - loss: 0.5101 - accuracy: 0.8264 - val_loss: 0.6634 - val_accuracy: 0.7434\n",
      "Epoch 71/100\n",
      " - 1s - loss: 0.4931 - accuracy: 0.8307 - val_loss: 0.6739 - val_accuracy: 0.7412\n",
      "Epoch 72/100\n",
      " - 2s - loss: 0.4828 - accuracy: 0.8338 - val_loss: 0.6584 - val_accuracy: 0.7588\n",
      "Epoch 73/100\n",
      " - 2s - loss: 0.4925 - accuracy: 0.8275 - val_loss: 0.6791 - val_accuracy: 0.7434\n",
      "Epoch 74/100\n",
      " - 2s - loss: 0.5119 - accuracy: 0.8232 - val_loss: 0.6761 - val_accuracy: 0.7456\n",
      "Epoch 75/100\n",
      " - 2s - loss: 0.4840 - accuracy: 0.8326 - val_loss: 0.6867 - val_accuracy: 0.7434\n",
      "Epoch 76/100\n",
      " - 1s - loss: 0.4860 - accuracy: 0.8264 - val_loss: 0.7041 - val_accuracy: 0.7367\n",
      "Epoch 77/100\n",
      " - 2s - loss: 0.5149 - accuracy: 0.8119 - val_loss: 0.7448 - val_accuracy: 0.7190\n",
      "Epoch 78/100\n",
      " - 2s - loss: 0.5224 - accuracy: 0.8119 - val_loss: 0.7711 - val_accuracy: 0.7190\n",
      "Epoch 79/100\n",
      " - 2s - loss: 0.5051 - accuracy: 0.8185 - val_loss: 0.6603 - val_accuracy: 0.7655\n",
      "Epoch 80/100\n",
      " - 2s - loss: 0.4864 - accuracy: 0.8314 - val_loss: 0.6352 - val_accuracy: 0.7544\n",
      "Epoch 81/100\n",
      " - 2s - loss: 0.4534 - accuracy: 0.8459 - val_loss: 0.6526 - val_accuracy: 0.7677\n",
      "Epoch 82/100\n",
      " - 1s - loss: 0.4578 - accuracy: 0.8428 - val_loss: 0.6533 - val_accuracy: 0.7633\n",
      "Epoch 83/100\n",
      " - 2s - loss: 0.4525 - accuracy: 0.8502 - val_loss: 0.7292 - val_accuracy: 0.7279\n",
      "Epoch 84/100\n",
      " - 1s - loss: 0.4553 - accuracy: 0.8428 - val_loss: 0.6786 - val_accuracy: 0.7566\n",
      "Epoch 85/100\n",
      " - 2s - loss: 0.4294 - accuracy: 0.8549 - val_loss: 0.6394 - val_accuracy: 0.7611\n",
      "Epoch 86/100\n",
      " - 2s - loss: 0.4184 - accuracy: 0.8635 - val_loss: 0.6426 - val_accuracy: 0.7699\n"
     ]
    },
    {
     "name": "stdout",
     "output_type": "stream",
     "text": [
      "Epoch 87/100\n",
      " - 1s - loss: 0.4183 - accuracy: 0.8616 - val_loss: 0.6522 - val_accuracy: 0.7699\n",
      "Epoch 88/100\n",
      " - 2s - loss: 0.4349 - accuracy: 0.8573 - val_loss: 0.6787 - val_accuracy: 0.7566\n",
      "Epoch 89/100\n",
      " - 2s - loss: 0.4306 - accuracy: 0.8596 - val_loss: 0.6844 - val_accuracy: 0.7566\n",
      "Epoch 90/100\n",
      " - 1s - loss: 0.4066 - accuracy: 0.8655 - val_loss: 0.6798 - val_accuracy: 0.7544\n",
      "Epoch 91/100\n",
      " - 1s - loss: 0.4077 - accuracy: 0.8702 - val_loss: 0.6828 - val_accuracy: 0.7611\n",
      "Epoch 92/100\n",
      " - 2s - loss: 0.4265 - accuracy: 0.8596 - val_loss: 0.6920 - val_accuracy: 0.7611\n",
      "Epoch 93/100\n",
      " - 2s - loss: 0.4134 - accuracy: 0.8643 - val_loss: 0.7119 - val_accuracy: 0.7500\n",
      "Epoch 94/100\n",
      " - 1s - loss: 0.4342 - accuracy: 0.8455 - val_loss: 0.7804 - val_accuracy: 0.7035\n",
      "Epoch 95/100\n",
      " - 2s - loss: 0.4272 - accuracy: 0.8514 - val_loss: 0.6869 - val_accuracy: 0.7434\n",
      "Epoch 96/100\n",
      " - 2s - loss: 0.4339 - accuracy: 0.8506 - val_loss: 0.6548 - val_accuracy: 0.7699\n",
      "Epoch 97/100\n",
      " - 1s - loss: 0.4131 - accuracy: 0.8655 - val_loss: 0.7103 - val_accuracy: 0.7456\n",
      "Epoch 98/100\n",
      " - 2s - loss: 0.4020 - accuracy: 0.8741 - val_loss: 0.7151 - val_accuracy: 0.7257\n",
      "Epoch 99/100\n",
      " - 2s - loss: 0.3815 - accuracy: 0.8760 - val_loss: 0.7100 - val_accuracy: 0.7367\n",
      "Epoch 100/100\n",
      " - 2s - loss: 0.3650 - accuracy: 0.8882 - val_loss: 0.6887 - val_accuracy: 0.7478\n"
     ]
    }
   ],
   "source": [
    "history = model.fit(Xtrain, Ytrain,validation_split=0.15,batch_size =512, epochs=100,verbose=2)"
   ]
  },
  {
   "cell_type": "code",
   "execution_count": 40,
   "metadata": {},
   "outputs": [
    {
     "name": "stdout",
     "output_type": "stream",
     "text": [
      "753/753 [==============================] - ETA:  - ETA:  - ETA:  - ETA:  - ETA:  - ETA:  - ETA:  - ETA:  - ETA:  - ETA:  - ETA:  - ETA:  - ETA:  - ETA:  - 1s 2ms/step\n"
     ]
    },
    {
     "data": {
      "text/plain": [
       "[0.7503187540834485, 0.7330677509307861]"
      ]
     },
     "execution_count": 40,
     "metadata": {},
     "output_type": "execute_result"
    }
   ],
   "source": [
    "model.evaluate(Xtest,Ytest)"
   ]
  },
  {
   "cell_type": "code",
   "execution_count": 41,
   "metadata": {},
   "outputs": [
    {
     "data": {
      "text/plain": [
       "<matplotlib.legend.Legend at 0x1eb11c92588>"
      ]
     },
     "execution_count": 41,
     "metadata": {},
     "output_type": "execute_result"
    },
    {
     "data": {
      "image/png": "[encoded data removed]",
      "text/plain": [
       "<Figure size 432x288 with 1 Axes>"
      ]
     },
     "metadata": {
      "needs_background": "light"
     },
     "output_type": "display_data"
    }
   ],
   "source": [
    "plt.plot(history.history['accuracy'])\n",
    "plt.plot(history.history['val_accuracy'])\n",
    "plt.plot(history.history['loss'])\n",
    "plt.plot(history.history['val_loss'])\n",
    "plt.xlabel('Epoch')\n",
    "plt.ylabel('Value')\n",
    "plt.legend(['train_acc','val_acc','train_loss','val_loss'])"
   ]
  },
  {
   "cell_type": "code",
   "execution_count": 42,
   "metadata": {},
   "outputs": [
    {
     "name": "stdout",
     "output_type": "stream",
     "text": [
      "Model: \"sequential_1\"\n",
      "_________________________________________________________________\n",
      "Layer (type)                 Output Shape              Param #   \n",
      "=================================================================\n",
      "conv2d_1 (Conv2D)            (None, 50, 50, 16)        448       \n",
      "_________________________________________________________________\n",
      "max_pooling2d_1 (MaxPooling2 (None, 25, 25, 16)        0         \n",
      "_________________________________________________________________\n",
      "conv2d_2 (Conv2D)            (None, 25, 25, 32)        4640      \n",
      "_________________________________________________________________\n",
      "max_pooling2d_2 (MaxPooling2 (None, 12, 12, 32)        0         \n",
      "_________________________________________________________________\n",
      "conv2d_3 (Conv2D)            (None, 12, 12, 64)        18496     \n",
      "_________________________________________________________________\n",
      "max_pooling2d_3 (MaxPooling2 (None, 6, 6, 64)          0         \n",
      "_________________________________________________________________\n",
      "conv2d_4 (Conv2D)            (None, 6, 6, 32)          18464     \n",
      "_________________________________________________________________\n",
      "max_pooling2d_4 (MaxPooling2 (None, 3, 3, 32)          0         \n",
      "_________________________________________________________________\n",
      "flatten_1 (Flatten)          (None, 288)               0         \n",
      "_________________________________________________________________\n",
      "dense_1 (Dense)              (None, 5)                 1445      \n",
      "=================================================================\n",
      "Total params: 43,493\n",
      "Trainable params: 43,493\n",
      "Non-trainable params: 0\n",
      "_________________________________________________________________\n"
     ]
    }
   ],
   "source": [
    "model.summary()"
   ]
  },
  {
   "cell_type": "code",
   "execution_count": 45,
   "metadata": {},
   "outputs": [],
   "source": [
    "model.save('FlowerClassification-73.30.h5')"
   ]
  },
  {
   "cell_type": "code",
   "execution_count": 44,
   "metadata": {},
   "outputs": [
    {
     "data": {
      "text/plain": [
       "\"\\nfrom keras.models import load_model\\n\\nnew_model = load_model('FlowerClassification-66.24.h5')\\ntarget = ['daisy','dandelion','rose','sunflower','tulip']\\n\\npic = cv2.imread('Rose_test.jpg')\\npic = cv2.cvtColor(pic,cv2.COLOR_BGR2RGB)\\npic = resizer(pic)\\n\\npr = new_model.predict_classes(pic.reshape((1, 50, 50, 3)))\\nprint('Predicted flower - ',target[pr[0]])\""
      ]
     },
     "execution_count": 44,
     "metadata": {},
     "output_type": "execute_result"
    }
   ],
   "source": [
    "#To load the model, remove the ''' ''' below\n",
    "'''\n",
    "from keras.models import load_model\n",
    "\n",
    "new_model = load_model('FlowerClassification-66.24.h5')\n",
    "target = ['daisy','dandelion','rose','sunflower','tulip']\n",
    "\n",
    "pic = cv2.imread('Rose_test.jpg')\n",
    "pic = cv2.cvtColor(pic,cv2.COLOR_BGR2RGB)\n",
    "pic = resizer(pic)\n",
    "\n",
    "pr = new_model.predict_classes(pic.reshape((1, 50, 50, 3)))\n",
    "print('Predicted flower - ',target[pr[0]])'''"
   ]
  },
  {
   "cell_type": "code",
   "execution_count": null,
   "metadata": {},
   "outputs": [],
   "source": []
  },
  {
   "cell_type": "code",
   "execution_count": null,
   "metadata": {},
   "outputs": [],
   "source": []
  },
  {
   "cell_type": "code",
   "execution_count": null,
   "metadata": {},
   "outputs": [],
   "source": []
  }
 ],
 "metadata": {
  "kernelspec": {
   "display_name": "Python 3",
   "language": "python",
   "name": "python3"
  },
  "language_info": {
   "codemirror_mode": {
    "name": "ipython",
    "version": 3
   },
   "file_extension": ".py",
   "mimetype": "text/x-python",
   "name": "python",
   "nbconvert_exporter": "python",
   "pygments_lexer": "ipython3",
   "version": "3.7.4"
  }
 },
 "nbformat": 4,
 "nbformat_minor": 2
}
